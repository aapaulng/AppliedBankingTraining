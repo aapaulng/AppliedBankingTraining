{
 "cells": [
  {
   "cell_type": "code",
   "execution_count": 1,
   "id": "7fee2777-f5d8-4067-825e-a30258b66ce3",
   "metadata": {},
   "outputs": [
    {
     "name": "stderr",
     "output_type": "stream",
     "text": [
      "C:\\Users\\Iverson\\anaconda3\\envs\\captum\\Lib\\site-packages\\tqdm\\auto.py:21: TqdmWarning: IProgress not found. Please update jupyter and ipywidgets. See https://ipywidgets.readthedocs.io/en/stable/user_install.html\n",
      "  from .autonotebook import tqdm as notebook_tqdm\n"
     ]
    }
   ],
   "source": [
    "# ============================================================\n",
    "# 🏦 Sentiment Analysis for Banking Texts using DistilBERT\n",
    "# Dataset: Financial PhraseBank (100% Agreement version)\n",
    "# Optimized for CPU with metrics & plots (incl. ROC/AUC)\n",
    "# ============================================================\n",
    "\n",
    "# Import libraries\n",
    "import torch\n",
    "import pandas as pd\n",
    "import numpy as np\n",
    "from sklearn.model_selection import train_test_split\n",
    "from transformers import DistilBertTokenizer,  DistilBertForSequenceClassification, Trainer, TrainingArguments\n",
    "import evaluate\n",
    "from sklearn.metrics import classification_report, confusion_matrix, roc_curve, auc\n",
    "from sklearn.preprocessing import label_binarize\n",
    "import seaborn as sns\n",
    "import matplotlib.pyplot as plt\n",
    "import warnings\n",
    "warnings.filterwarnings('ignore')"
   ]
  },
  {
   "cell_type": "code",
   "execution_count": 2,
   "id": "61d3a835-b77f-4e01-8acd-45487a3b6779",
   "metadata": {},
   "outputs": [],
   "source": [
    "# Use all available CPU threads\n",
    "torch.set_num_threads(torch.get_num_threads()-1)"
   ]
  },
  {
   "cell_type": "code",
   "execution_count": 35,
   "id": "e1e299c3-4bf7-4f1b-ac2d-23eab26d2146",
   "metadata": {},
   "outputs": [],
   "source": [
    "# Load dataset\n",
    "df = pd.read_csv('../datasets/FinancialPhraseBank-v1.0/Sentences_AllAgree.txt',\n",
    "                 sep='@',header=None,encoding='latin-1',\n",
    "                 names=['sentence','sentiment'])\n",
    "\n",
    "# Encode Labels\n",
    "label_map = {'positive':2,'neutral':1,'negative':0}\n",
    "df['label'] = df['sentiment'].map(label_map)\n",
    "\n",
    "# Train test spilt\n",
    "train_X, test_X, train_y, test_y = train_test_split(\n",
    "    df['sentence'].values,\n",
    "    df['label'].values,\n",
    "    test_size = 0.2,\n",
    "    random_state=42\n",
    ")\n",
    "\n",
    "# Tokeniation, limit sequence length to 128\n",
    "tokenizer = DistilBertTokenizer.from_pretrained('distilbert-base-uncased')"
   ]
  },
  {
   "cell_type": "code",
   "execution_count": 36,
   "id": "ebcf53c1-6691-4438-acd0-ac128476f457",
   "metadata": {},
   "outputs": [],
   "source": [
    "train_encodings = tokenizer.batch_encode_plus(train_X,padding=True,truncation=True,max_length=128,return_tensors='pt')\n",
    "test_encodings = tokenizer.batch_encode_plus(test_X,padding=True,truncation=True,max_length=128,return_tensors='pt')"
   ]
  },
  {
   "cell_type": "code",
   "execution_count": 37,
   "id": "98f0c515-c7a8-4110-a5b0-6acdc4dfb259",
   "metadata": {},
   "outputs": [
    {
     "data": {
      "text/plain": [
       "torch.Size([1811, 93])"
      ]
     },
     "execution_count": 37,
     "metadata": {},
     "output_type": "execute_result"
    }
   ],
   "source": [
    "train_encodings['input_ids'].shape"
   ]
  },
  {
   "cell_type": "code",
   "execution_count": 3,
   "id": "a6bbc9ac-69ad-49fd-8604-eb09a102fa51",
   "metadata": {},
   "outputs": [],
   "source": [
    "# Build dataset class for trainer\n",
    "class SentimentDataset(torch.utils.data.Dataset):\n",
    "    def __init__(self,encodings,labels):\n",
    "        self.encodings = encodings\n",
    "        self.labels = labels\n",
    "\n",
    "    def __len__(self):\n",
    "        return len(self.labels)\n",
    "\n",
    "    def __getitem__(self,idx):\n",
    "        item = {key:val[idx] for key,val in self.encodings.items()}\n",
    "        item['labels'] = torch.tensor(self.labels[idx])\n",
    "        return item"
   ]
  },
  {
   "cell_type": "code",
   "execution_count": 67,
   "id": "55b75cbf-2401-4e8c-ac01-acafd6daeba6",
   "metadata": {},
   "outputs": [],
   "source": [
    "train_ds = SentimentDataset(train_encodings,train_y)\n",
    "test_ds = SentimentDataset(test_encodings,test_y)"
   ]
  },
  {
   "cell_type": "code",
   "execution_count": 68,
   "id": "1376d2df-6acc-4946-8e3c-5dc29228377a",
   "metadata": {},
   "outputs": [
    {
     "name": "stderr",
     "output_type": "stream",
     "text": [
      "Some weights of DistilBertForSequenceClassification were not initialized from the model checkpoint at distilbert-base-uncased and are newly initialized: ['classifier.bias', 'classifier.weight', 'pre_classifier.bias', 'pre_classifier.weight']\n",
      "You should probably TRAIN this model on a down-stream task to be able to use it for predictions and inference.\n"
     ]
    }
   ],
   "source": [
    "# Load pre-trained DistillBert model\n",
    "model = DistilBertForSequenceClassification.from_pretrained('distilbert-base-uncased',num_labels=3)"
   ]
  },
  {
   "cell_type": "code",
   "execution_count": 4,
   "id": "9b065e47-3633-4240-9462-08818dfe4069",
   "metadata": {},
   "outputs": [],
   "source": [
    "# Define metrics (accuracy)\n",
    "metric = evaluate.load('accuracy')\n",
    "\n",
    "def compute_metrics(eval_pred):\n",
    "    logits, labels = eval_pred\n",
    "    preds = np.argmax(logits,axis=-1)\n",
    "    return metric.compute(predictions=preds,references=labels)"
   ]
  },
  {
   "cell_type": "code",
   "execution_count": 70,
   "id": "9fe2db41-b6dc-4e10-b0fa-ed82aa2ecd2d",
   "metadata": {},
   "outputs": [],
   "source": [
    "# Training Arguments (tuned for CPU)\n",
    "training_args = TrainingArguments(\n",
    "    output_dir = './results',\n",
    "    eval_strategy = 'epoch',\n",
    "    save_strategy = 'epoch',\n",
    "    load_best_model_at_end = True,\n",
    "    learning_rate = 2e-5,\n",
    "    per_device_train_batch_size=4,\n",
    "    num_train_epochs=1,\n",
    "    weight_decay=0.01,\n",
    "    logging_dir='./logs',\n",
    "    logging_steps=20\n",
    ")"
   ]
  },
  {
   "cell_type": "code",
   "execution_count": 71,
   "id": "9901cd26-de55-4f56-baac-764b1a02da2f",
   "metadata": {},
   "outputs": [],
   "source": [
    "# Create Trainer\n",
    "trainer = Trainer(\n",
    "    model=model,\n",
    "    args=training_args,\n",
    "    train_dataset=train_ds,\n",
    "    eval_dataset=test_ds,\n",
    "    tokenizer=tokenizer,\n",
    "    compute_metrics=compute_metrics\n",
    ")"
   ]
  },
  {
   "cell_type": "code",
   "execution_count": 72,
   "id": "120acfea-9107-4ba8-8d96-0236f9c89a63",
   "metadata": {},
   "outputs": [
    {
     "data": {
      "text/plain": [
       "KeysView({'input_ids': tensor([[  101,  1996, 15873,  ...,     0,     0,     0],\n",
       "        [  101,  4082,  5618,  ...,     0,     0,     0],\n",
       "        [  101,  6983,  8139,  ...,     0,     0,     0],\n",
       "        ...,\n",
       "        [  101,  1036, 13649,  ...,     0,     0,     0],\n",
       "        [  101,  3006,  2951,  ...,     0,     0,     0],\n",
       "        [  101,  6636, 26557,  ...,     0,     0,     0]]), 'attention_mask': tensor([[1, 1, 1,  ..., 0, 0, 0],\n",
       "        [1, 1, 1,  ..., 0, 0, 0],\n",
       "        [1, 1, 1,  ..., 0, 0, 0],\n",
       "        ...,\n",
       "        [1, 1, 1,  ..., 0, 0, 0],\n",
       "        [1, 1, 1,  ..., 0, 0, 0],\n",
       "        [1, 1, 1,  ..., 0, 0, 0]])})"
      ]
     },
     "execution_count": 72,
     "metadata": {},
     "output_type": "execute_result"
    }
   ],
   "source": [
    "train_encodings.keys()"
   ]
  },
  {
   "cell_type": "code",
   "execution_count": 73,
   "id": "e95135bf-8fed-4326-bd02-6879f7fda1f6",
   "metadata": {},
   "outputs": [
    {
     "data": {
      "text/html": [
       "\n",
       "    <div>\n",
       "      \n",
       "      <progress value='453' max='453' style='width:300px; height:20px; vertical-align: middle;'></progress>\n",
       "      [453/453 06:35, Epoch 1/1]\n",
       "    </div>\n",
       "    <table border=\"1\" class=\"dataframe\">\n",
       "  <thead>\n",
       " <tr style=\"text-align: left;\">\n",
       "      <th>Epoch</th>\n",
       "      <th>Training Loss</th>\n",
       "      <th>Validation Loss</th>\n",
       "      <th>Accuracy</th>\n",
       "    </tr>\n",
       "  </thead>\n",
       "  <tbody>\n",
       "    <tr>\n",
       "      <td>1</td>\n",
       "      <td>0.235500</td>\n",
       "      <td>0.165987</td>\n",
       "      <td>0.947020</td>\n",
       "    </tr>\n",
       "  </tbody>\n",
       "</table><p>"
      ],
      "text/plain": [
       "<IPython.core.display.HTML object>"
      ]
     },
     "metadata": {},
     "output_type": "display_data"
    },
    {
     "data": {
      "text/plain": [
       "TrainOutput(global_step=453, training_loss=0.3624989903525801, metrics={'train_runtime': 397.1348, 'train_samples_per_second': 4.56, 'train_steps_per_second': 1.141, 'total_flos': 43576083126846.0, 'train_loss': 0.3624989903525801, 'epoch': 1.0})"
      ]
     },
     "execution_count": 73,
     "metadata": {},
     "output_type": "execute_result"
    }
   ],
   "source": [
    "# Start model training\n",
    "trainer.train()"
   ]
  },
  {
   "cell_type": "code",
   "execution_count": 76,
   "id": "7d716bf0-a51e-44f4-a812-6a2003852945",
   "metadata": {},
   "outputs": [
    {
     "data": {
      "text/html": [],
      "text/plain": [
       "<IPython.core.display.HTML object>"
      ]
     },
     "metadata": {},
     "output_type": "display_data"
    }
   ],
   "source": [
    "# Evaluate with detailed metrics\n",
    "predictions = trainer.predict(test_ds)\n",
    "y_pred = np.argmax(predictions.predictions,axis=-1)\n",
    "y_true = predictions.label_ids\n",
    "y_probs = torch.softmax(torch.tensor(predictions.predictions),dim=1).numpy()"
   ]
  },
  {
   "cell_type": "code",
   "execution_count": 78,
   "id": "c0cc105f-7399-4e27-b87f-285c356ad18b",
   "metadata": {},
   "outputs": [
    {
     "name": "stdout",
     "output_type": "stream",
     "text": [
      "Classification Report\n",
      "              precision    recall  f1-score   support\n",
      "\n",
      "    negative       0.90      0.93      0.91        56\n",
      "     neutral       0.96      0.98      0.97       276\n",
      "    positive       0.95      0.88      0.91       121\n",
      "\n",
      "    accuracy                           0.95       453\n",
      "   macro avg       0.93      0.93      0.93       453\n",
      "weighted avg       0.95      0.95      0.95       453\n",
      "\n"
     ]
    }
   ],
   "source": [
    "# Classification report\n",
    "print('Classification Report')\n",
    "print(classification_report(y_true,y_pred,target_names=['negative','neutral','positive']))"
   ]
  },
  {
   "cell_type": "code",
   "execution_count": 80,
   "id": "d66e7e63-e45d-4f64-955c-cfcaf0e5a735",
   "metadata": {},
   "outputs": [
    {
     "data": {
      "image/png": "[encoded data removed]",
      "text/plain": [
       "<Figure size 600x500 with 2 Axes>"
      ]
     },
     "metadata": {},
     "output_type": "display_data"
    }
   ],
   "source": [
    "# Confusion Matrix\n",
    "cm = confusion_matrix(y_true,y_pred)\n",
    "plt.figure(figsize=(6,5))\n",
    "sns.heatmap(cm,annot=True,fmt='d',cmap='Blues',\n",
    "            xticklabels=['negative','neutral','positive'],\n",
    "            yticklabels=['negative','neutral','positive'])\n",
    "plt.title('Confusion Matrix')\n",
    "plt.xlabel('Predicted')\n",
    "plt.ylabel('True')\n",
    "plt.show()"
   ]
  },
  {
   "cell_type": "code",
   "execution_count": null,
   "id": "2437d662-51c2-4beb-a16e-dc36adc15898",
   "metadata": {},
   "outputs": [],
   "source": [
    "ax = sns.barplot(flights, x=\"year\", y=\"passengers\", estimator=\"sum\", errorbar=None)\n",
    "ax.bar_label(ax.containers[0], fontsize=10);"
   ]
  },
  {
   "cell_type": "code",
   "execution_count": 91,
   "id": "b55e2a59-94df-46ed-a0b8-743910ca22e2",
   "metadata": {},
   "outputs": [
    {
     "data": {
      "image/png": "[encoded data removed]",
      "text/plain": [
       "<Figure size 640x480 with 1 Axes>"
      ]
     },
     "metadata": {},
     "output_type": "display_data"
    }
   ],
   "source": [
    "# Bar chart for F1-score\n",
    "report = classification_report(y_true, y_pred, target_names=[\"negative\", \"neutral\", \"positive\"], output_dict=True)\n",
    "f1_scores = [report[label]['f1-score'] for label in ['negative','neutral','positive']]\n",
    "\n",
    "ax = sns.barplot(x=['negative','neutral','positive'], y=f1_scores,palette='viridis')\n",
    "ax.bar_label(ax.containers[0], fontsize=10,label_type='center');\n",
    "plt.title('F1-score per class')\n",
    "plt.ylabel('F1-score')\n",
    "plt.ylim(0,1)\n",
    "plt.show()"
   ]
  },
  {
   "cell_type": "code",
   "execution_count": 92,
   "id": "8c93f532-ea2d-4ca9-b92a-e4c8272ddf44",
   "metadata": {},
   "outputs": [
    {
     "data": {
      "image/png": "[encoded data removed]",
      "text/plain": [
       "<Figure size 700x600 with 1 Axes>"
      ]
     },
     "metadata": {},
     "output_type": "display_data"
    }
   ],
   "source": [
    "# ROC AUC curves for each class\n",
    "n_classes = 3\n",
    "y_true_bin = label_binarize(y_true,classes=[0,1,2])\n",
    "\n",
    "plt.figure(figsize=(7,6))\n",
    "for i,label in enumerate(['negative','neutral','positive']):\n",
    "    fpr,tpr,_ = roc_curve(y_true_bin[:,i],y_probs[:,i])\n",
    "    roc_auc = auc(fpr,tpr)\n",
    "    plt.plot(fpr,tpr,label=f'{label} (AUC = {roc_auc:.2f})')\n",
    "\n",
    "plt.plot([0,1],[0,1],'k--')\n",
    "plt.xlabel('False Positive Rate')\n",
    "plt.ylabel('True Positive Rate')\n",
    "plt.title('ROC curves per class')\n",
    "plt.legend()\n",
    "plt.show()"
   ]
  },
  {
   "cell_type": "code",
   "execution_count": 102,
   "id": "aebc6d57-b90e-4d32-bcb9-3e264b5df316",
   "metadata": {},
   "outputs": [
    {
     "data": {
      "text/plain": [
       "SequenceClassifierOutput(loss=None, logits=tensor([[ 2.1388, -1.8696, -0.8879]], grad_fn=<AddmmBackward0>), hidden_states=None, attentions=None)"
      ]
     },
     "execution_count": 102,
     "metadata": {},
     "output_type": "execute_result"
    }
   ],
   "source": [
    "outputs"
   ]
  },
  {
   "cell_type": "code",
   "execution_count": 106,
   "id": "4079901a-c3a7-4344-81ec-6322581349dc",
   "metadata": {},
   "outputs": [
    {
     "name": "stdout",
     "output_type": "stream",
     "text": [
      "\n",
      "Example Inference -> The bank is facing a major restructuring due to rising defaults.\n",
      "Predicted Sentiment: negative\n"
     ]
    }
   ],
   "source": [
    "# Inference on new text\n",
    "text = \"The bank is facing a major restructuring due to rising defaults.\"\n",
    "inputs = tokenizer.encode_plus(text,return_tensors='pt')\n",
    "outputs = model(**inputs)\n",
    "pred = torch.argmax(outputs.logits,axis=-1).item()\n",
    "\n",
    "labels = ['negative','neutral','positive']\n",
    "print('\\nExample Inference ->', text)\n",
    "print('Predicted Sentiment:',labels[pred])"
   ]
  },
  {
   "cell_type": "markdown",
   "id": "77e652a9-ee62-4fbd-94fa-7f709224ccfb",
   "metadata": {},
   "source": [
    "# Save & Load model"
   ]
  },
  {
   "cell_type": "code",
   "execution_count": 7,
   "id": "4cc85b91-2409-406f-a833-e9704c7b108b",
   "metadata": {},
   "outputs": [],
   "source": [
    "# ============================================================\n",
    "# 📌 Save model & tokenizer\n",
    "# ============================================================\n",
    "save_dir = './saved_model'\n",
    "model.save_pretrained(save_dir)\n",
    "tokenizer.save_pretrained(save_dir)\n",
    "\n",
    "print(f'Model & Tokenizer saved to {save_dir}')"
   ]
  },
  {
   "cell_type": "code",
   "execution_count": 8,
   "id": "846cf8bb-6976-4552-a651-3708c9899212",
   "metadata": {},
   "outputs": [
    {
     "name": "stdout",
     "output_type": "stream",
     "text": [
      "Predicted Sentiment: neutral\n"
     ]
    }
   ],
   "source": [
    "# Load model & tokenizer (in a new session)\n",
    "from transformers import DistilBertTokenizer, DistilBertForSequenceClassification\n",
    "\n",
    "load_dir = './saved_model'\n",
    "loaded_tokenizer = DistilBertTokenizer.from_pretrained(load_dir)\n",
    "loaded_model = DistilBertForSequenceClassification.from_pretrained(load_dir)\n",
    "\n",
    "# Example inference with loaded model\n",
    "text = \"The bank announced late but fine  financial results this quarter.\"\n",
    "inputs = loaded_tokenizer(text, return_tensors=\"pt\")\n",
    "outputs = loaded_model(**inputs)\n",
    "pred = torch.argmax(outputs.logits).item()\n",
    "\n",
    "labels = [\"negative\", \"neutral\", \"positive\"]\n",
    "print(\"Predicted Sentiment:\", labels[pred])"
   ]
  }
 ],
 "metadata": {
  "kernelspec": {
   "display_name": "Python [conda env:captum]",
   "language": "python",
   "name": "conda-env-captum-py"
  },
  "language_info": {
   "codemirror_mode": {
    "name": "ipython",
    "version": 3
   },
   "file_extension": ".py",
   "mimetype": "text/x-python",
   "name": "python",
   "nbconvert_exporter": "python",
   "pygments_lexer": "ipython3",
   "version": "3.13.7"
  }
 },
 "nbformat": 4,
 "nbformat_minor": 5
}
