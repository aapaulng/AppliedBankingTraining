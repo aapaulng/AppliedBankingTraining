{
 "cells": [
  {
   "cell_type": "code",
   "execution_count": 3,
   "id": "e211f9b9-f5bd-44f2-b8ae-1ccd139db9c7",
   "metadata": {},
   "outputs": [],
   "source": [
    "import warnings\n",
    "warnings.filterwarnings('ignore')\n",
    "import pandas as pd\n",
    "import numpy as np\n",
    "import matplotlib.pyplot as plt\n",
    "import seaborn as sns\n",
    "from sklearn.model_selection import train_test_split\n",
    "from sklearn.linear_model import LogisticRegression\n",
    "from sklearn.tree import DecisionTreeClassifier\n",
    "from sklearn.ensemble import RandomForestClassifier\n",
    "from sklearn.metrics import roc_auc_score, roc_curve, confusion_matrix, f1_score\n",
    "from sklearn.preprocessing import LabelEncoder\n",
    "import numpy as np\n",
    "import random"
   ]
  },
  {
   "cell_type": "code",
   "execution_count": 2,
   "id": "11f0ce70-cb6a-47de-9b65-ef5318679880",
   "metadata": {},
   "outputs": [
    {
     "name": "stdout",
     "output_type": "stream",
     "text": [
      "Missing values per column:\n",
      "\n",
      "Gender               13\n",
      "Married               3\n",
      "Dependents           15\n",
      "Education             0\n",
      "Self_Employed        32\n",
      "ApplicantIncome       0\n",
      "CoapplicantIncome     0\n",
      "LoanAmount           22\n",
      "Loan_Amount_Term     14\n",
      "Credit_History       50\n",
      "Property_Area         0\n",
      "Loan_Status           0\n",
      "dtype: int64\n"
     ]
    },
    {
     "data": {
      "text/plain": [
       "((429, 11), (185, 11))"
      ]
     },
     "execution_count": 2,
     "metadata": {},
     "output_type": "execute_result"
    }
   ],
   "source": [
    "# Load dataset\n",
    "df = pd.read_csv(\"../datasets/loan_predication/loan_predication.csv\")\n",
    "\n",
    "df = df.drop(columns=['Loan_ID'])\n",
    "# Check missing values\n",
    "print(\"Missing values per column:\\n\")\n",
    "print(df.isnull().sum())\n",
    "\n",
    "# Encode target with LabelEncoder\n",
    "le = LabelEncoder()\n",
    "y = le.fit_transform(df['Loan_Status'])\n",
    "X = df.drop(columns=['Loan_Status'])\n",
    "\n",
    "# Apply LabelEncoder on all non-numeric columns\n",
    "for col in X.columns:\n",
    "    if X[col].dtype == 'object':\n",
    "        X[col] = LabelEncoder().fit_transform(X[col].astype(str))\n",
    "\n",
    "# Handle missing values (median for numeric, mode for categorical)\n",
    "X = X.fillna(X.median(numeric_only=True))\n",
    "X = X.fillna(X.mode().iloc[0])\n",
    "\n",
    "# Train-test split\n",
    "X_train, X_test, y_train, y_test = train_test_split(X, y, test_size=0.3, random_state=42)\n",
    "X_train.shape, X_test.shape"
   ]
  },
  {
   "cell_type": "code",
   "execution_count": 4,
   "id": "895414af-7025-46c6-9b26-4994cca6ac31",
   "metadata": {},
   "outputs": [
    {
     "data": {
      "text/html": [
       "<div>\n",
       "<style scoped>\n",
       "    .dataframe tbody tr th:only-of-type {\n",
       "        vertical-align: middle;\n",
       "    }\n",
       "\n",
       "    .dataframe tbody tr th {\n",
       "        vertical-align: top;\n",
       "    }\n",
       "\n",
       "    .dataframe thead th {\n",
       "        text-align: right;\n",
       "    }\n",
       "</style>\n",
       "<table border=\"1\" class=\"dataframe\">\n",
       "  <thead>\n",
       "    <tr style=\"text-align: right;\">\n",
       "      <th></th>\n",
       "      <th>Gender</th>\n",
       "      <th>Married</th>\n",
       "      <th>Dependents</th>\n",
       "      <th>Education</th>\n",
       "      <th>Self_Employed</th>\n",
       "      <th>ApplicantIncome</th>\n",
       "      <th>CoapplicantIncome</th>\n",
       "      <th>LoanAmount</th>\n",
       "      <th>Loan_Amount_Term</th>\n",
       "      <th>Credit_History</th>\n",
       "      <th>Property_Area</th>\n",
       "    </tr>\n",
       "  </thead>\n",
       "  <tbody>\n",
       "    <tr>\n",
       "      <th>350</th>\n",
       "      <td>1</td>\n",
       "      <td>1</td>\n",
       "      <td>0</td>\n",
       "      <td>0</td>\n",
       "      <td>0</td>\n",
       "      <td>9083</td>\n",
       "      <td>0.0</td>\n",
       "      <td>228.0</td>\n",
       "      <td>360.0</td>\n",
       "      <td>1.0</td>\n",
       "      <td>1</td>\n",
       "    </tr>\n",
       "  </tbody>\n",
       "</table>\n",
       "</div>"
      ],
      "text/plain": [
       "     Gender  Married  Dependents  Education  Self_Employed  ApplicantIncome  \\\n",
       "350       1        1           0          0              0             9083   \n",
       "\n",
       "     CoapplicantIncome  LoanAmount  Loan_Amount_Term  Credit_History  \\\n",
       "350                0.0       228.0             360.0             1.0   \n",
       "\n",
       "     Property_Area  \n",
       "350              1  "
      ]
     },
     "execution_count": 4,
     "metadata": {},
     "output_type": "execute_result"
    }
   ],
   "source": [
    "X_test.head(1)"
   ]
  },
  {
   "cell_type": "code",
   "execution_count": 15,
   "id": "f285e916-a498-4720-bb50-1ce4e757af10",
   "metadata": {},
   "outputs": [
    {
     "name": "stdout",
     "output_type": "stream",
     "text": [
      "Q-table learned for banking loan alert prioritization\n"
     ]
    },
    {
     "data": {
      "text/html": [
       "<div>\n",
       "<style scoped>\n",
       "    .dataframe tbody tr th:only-of-type {\n",
       "        vertical-align: middle;\n",
       "    }\n",
       "\n",
       "    .dataframe tbody tr th {\n",
       "        vertical-align: top;\n",
       "    }\n",
       "\n",
       "    .dataframe thead th {\n",
       "        text-align: right;\n",
       "    }\n",
       "</style>\n",
       "<table border=\"1\" class=\"dataframe\">\n",
       "  <thead>\n",
       "    <tr style=\"text-align: right;\">\n",
       "      <th></th>\n",
       "      <th>ignore</th>\n",
       "      <th>review</th>\n",
       "      <th>escalate</th>\n",
       "    </tr>\n",
       "  </thead>\n",
       "  <tbody>\n",
       "    <tr>\n",
       "      <th>low_risk</th>\n",
       "      <td>16.44</td>\n",
       "      <td>10.41</td>\n",
       "      <td>11.35</td>\n",
       "    </tr>\n",
       "    <tr>\n",
       "      <th>medium_risk</th>\n",
       "      <td>5.44</td>\n",
       "      <td>9.90</td>\n",
       "      <td>5.32</td>\n",
       "    </tr>\n",
       "    <tr>\n",
       "      <th>high_risk</th>\n",
       "      <td>4.15</td>\n",
       "      <td>5.45</td>\n",
       "      <td>10.32</td>\n",
       "    </tr>\n",
       "  </tbody>\n",
       "</table>\n",
       "</div>"
      ],
      "text/plain": [
       "             ignore  review  escalate\n",
       "low_risk      16.44   10.41     11.35\n",
       "medium_risk    5.44    9.90      5.32\n",
       "high_risk      4.15    5.45     10.32"
      ]
     },
     "execution_count": 15,
     "metadata": {},
     "output_type": "execute_result"
    }
   ],
   "source": [
    "# Define states from dataset (Credit_History + ApplicantIncome)\n",
    "def get_state(row):\n",
    "    if row['Credit_History'] ==0:\n",
    "        return 2 # High risk\n",
    "    elif row['ApplicantIncome'] > df['ApplicantIncome'].median():\n",
    "        return 1 # medium risk\n",
    "    else:\n",
    "        return 0 # low risk\n",
    "\n",
    "states = ['low_risk','medium_risk','high_risk']\n",
    "actions = ['ignore','review','escalate']\n",
    "\n",
    "q_table = np.zeros((len(states),len(actions)))\n",
    "alpha, gamma, episodes = 0.1,0.9,500\n",
    "\n",
    "# Training Loop\n",
    "for _ in range(episodes):\n",
    "    idx = random.choice(X_test.index)\n",
    "    row = df.loc[idx]\n",
    "    state = get_state(row)\n",
    "    action = random.choice(range(len(actions)))\n",
    "\n",
    "    # Reward policy:\n",
    "    if state == 2 and action == 2:    #escalate high_risk\n",
    "        reward = 5\n",
    "    elif state == 0 and action == 0:  # ignore low_risk\n",
    "        reward = 3\n",
    "    elif state == 1 and action == 1:   # review medium_risk\n",
    "        reward = 2\n",
    "    else:\n",
    "        reward = -2                    #penalize if wrong handling\n",
    "    \n",
    "    best_next = np.max(q_table[state])\n",
    "    q_table[state,action] += alpha * (reward + gamma * best_next - q_table[state,action])\n",
    "\n",
    "q_df = pd.DataFrame(q_table, columns=actions,index=states)\n",
    "\n",
    "print('Q-table learned for banking loan alert prioritization')\n",
    "q_df.round(2)"
   ]
  },
  {
   "cell_type": "code",
   "execution_count": null,
   "id": "9ad158ba-04b1-4086-996c-a0afad8100e5",
   "metadata": {},
   "outputs": [],
   "source": []
  }
 ],
 "metadata": {
  "kernelspec": {
   "display_name": "Python [conda env:captum]",
   "language": "python",
   "name": "conda-env-captum-py"
  },
  "language_info": {
   "codemirror_mode": {
    "name": "ipython",
    "version": 3
   },
   "file_extension": ".py",
   "mimetype": "text/x-python",
   "name": "python",
   "nbconvert_exporter": "python",
   "pygments_lexer": "ipython3",
   "version": "3.13.7"
  }
 },
 "nbformat": 4,
 "nbformat_minor": 5
}
