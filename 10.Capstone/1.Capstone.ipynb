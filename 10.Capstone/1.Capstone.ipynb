{
 "cells": [
  {
   "cell_type": "code",
   "execution_count": 1,
   "id": "fd8e31eb-7d0a-4860-9d9e-6b242aba5d0c",
   "metadata": {},
   "outputs": [
    {
     "name": "stderr",
     "output_type": "stream",
     "text": [
      "C:\\Users\\Iverson\\anaconda3\\envs\\captum\\Lib\\site-packages\\tqdm\\auto.py:21: TqdmWarning: IProgress not found. Please update jupyter and ipywidgets. See https://ipywidgets.readthedocs.io/en/stable/user_install.html\n",
      "  from .autonotebook import tqdm as notebook_tqdm\n"
     ]
    }
   ],
   "source": [
    "import torch\n",
    "from transformers import AutoTokenizer, AutoModelForSequenceClassification\n",
    "\n",
    "import warnings\n",
    "warnings.filterwarnings('ignore')\n",
    "\n",
    "# Import libraries\n",
    "import torch\n",
    "import pandas as pd\n",
    "import numpy as np\n",
    "from sklearn.model_selection import train_test_split\n",
    "from transformers import (\n",
    "    AutoTokenizer, \n",
    "    AutoModelForSequenceClassification, \n",
    "    Trainer, \n",
    "    TrainingArguments\n",
    ")\n",
    "import evaluate\n",
    "from sklearn.metrics import (\n",
    "    classification_report, \n",
    "    confusion_matrix, \n",
    "    roc_curve, \n",
    "    auc\n",
    ")\n",
    "from sklearn.preprocessing import label_binarize\n",
    "import seaborn as sns\n",
    "import matplotlib.pyplot as plt\n",
    "\n",
    "# Use all available CPU threads\n",
    "torch.set_num_threads(torch.get_num_threads())"
   ]
  },
  {
   "cell_type": "markdown",
   "id": "b0fcf1b5-c488-4874-bd23-8f04d17648f6",
   "metadata": {},
   "source": [
    "## Part 1: Data Exploration"
   ]
  },
  {
   "cell_type": "markdown",
   "id": "04515712-b558-4033-becb-2734f301ad26",
   "metadata": {},
   "source": [
    "### Load daaset"
   ]
  },
  {
   "cell_type": "code",
   "execution_count": 94,
   "id": "97341887-ee52-4916-828b-7b6736fe2e1e",
   "metadata": {},
   "outputs": [],
   "source": [
    "df = pd.read_csv('bank_reviews.csv')"
   ]
  },
  {
   "cell_type": "markdown",
   "id": "db48e6ab-8ebd-4e0c-9366-bfefccd32952",
   "metadata": {},
   "source": [
    "### Show 5 rows"
   ]
  },
  {
   "cell_type": "code",
   "execution_count": 3,
   "id": "ac6892ca-1fea-45eb-9fe3-356803a049f1",
   "metadata": {},
   "outputs": [
    {
     "data": {
      "text/html": [
       "<div>\n",
       "<style scoped>\n",
       "    .dataframe tbody tr th:only-of-type {\n",
       "        vertical-align: middle;\n",
       "    }\n",
       "\n",
       "    .dataframe tbody tr th {\n",
       "        vertical-align: top;\n",
       "    }\n",
       "\n",
       "    .dataframe thead th {\n",
       "        text-align: right;\n",
       "    }\n",
       "</style>\n",
       "<table border=\"1\" class=\"dataframe\">\n",
       "  <thead>\n",
       "    <tr style=\"text-align: right;\">\n",
       "      <th></th>\n",
       "      <th>author</th>\n",
       "      <th>date</th>\n",
       "      <th>address</th>\n",
       "      <th>bank</th>\n",
       "      <th>rating</th>\n",
       "      <th>review_title_by_user</th>\n",
       "      <th>review</th>\n",
       "      <th>bank_image</th>\n",
       "      <th>rating_title_by_user</th>\n",
       "      <th>useful_count</th>\n",
       "    </tr>\n",
       "  </thead>\n",
       "  <tbody>\n",
       "    <tr>\n",
       "      <th>0</th>\n",
       "      <td>AMRENDRA  T</td>\n",
       "      <td>Mar 21, 2020</td>\n",
       "      <td>New delhi</td>\n",
       "      <td>SBI</td>\n",
       "      <td>4.0</td>\n",
       "      <td>\"Best saving\"</td>\n",
       "      <td>State Bank Of India is located nearby in our a...</td>\n",
       "      <td>https://static.bankbazaar.com/images/common/ba...</td>\n",
       "      <td>Great!</td>\n",
       "      <td>133</td>\n",
       "    </tr>\n",
       "    <tr>\n",
       "      <th>1</th>\n",
       "      <td>BISHWA</td>\n",
       "      <td>Mar 20, 2020</td>\n",
       "      <td>Kolkata</td>\n",
       "      <td>SBI</td>\n",
       "      <td>5.0</td>\n",
       "      <td>\"Good service\"</td>\n",
       "      <td>I have my salary account in SBI, when I applie...</td>\n",
       "      <td>https://static.bankbazaar.com/images/common/ba...</td>\n",
       "      <td>Blown Away!</td>\n",
       "      <td>89</td>\n",
       "    </tr>\n",
       "    <tr>\n",
       "      <th>2</th>\n",
       "      <td>SANTOSH</td>\n",
       "      <td>Mar 20, 2020</td>\n",
       "      <td>Hooghly</td>\n",
       "      <td>Axis Bank</td>\n",
       "      <td>5.0</td>\n",
       "      <td>\"Excellent Service\"</td>\n",
       "      <td>I am using Axis bank saving account for the  p...</td>\n",
       "      <td>https://static.bankbazaar.com/images/common/ba...</td>\n",
       "      <td>Blown Away!</td>\n",
       "      <td>48</td>\n",
       "    </tr>\n",
       "    <tr>\n",
       "      <th>3</th>\n",
       "      <td>MAHADEV</td>\n",
       "      <td>Mar 20, 2020</td>\n",
       "      <td>Pune</td>\n",
       "      <td>HDFC Bank</td>\n",
       "      <td>5.0</td>\n",
       "      <td>\"Excellent service\"</td>\n",
       "      <td>I have my salary bank account in HDFC bank for...</td>\n",
       "      <td>https://static.bankbazaar.com/images/common/ba...</td>\n",
       "      <td>Blown Away!</td>\n",
       "      <td>52</td>\n",
       "    </tr>\n",
       "    <tr>\n",
       "      <th>4</th>\n",
       "      <td>R</td>\n",
       "      <td>Mar 20, 2020</td>\n",
       "      <td>Bangalore</td>\n",
       "      <td>review</td>\n",
       "      <td>5.0</td>\n",
       "      <td>\"Good account\"</td>\n",
       "      <td>Close to around 10 years, I am holding this Co...</td>\n",
       "      <td>https://static.bankbazaar.com/images/common/ba...</td>\n",
       "      <td>Blown Away!</td>\n",
       "      <td>22</td>\n",
       "    </tr>\n",
       "  </tbody>\n",
       "</table>\n",
       "</div>"
      ],
      "text/plain": [
       "        author          date    address       bank  rating  \\\n",
       "0  AMRENDRA  T  Mar 21, 2020  New delhi        SBI     4.0   \n",
       "1       BISHWA  Mar 20, 2020    Kolkata        SBI     5.0   \n",
       "2      SANTOSH  Mar 20, 2020    Hooghly  Axis Bank     5.0   \n",
       "3      MAHADEV  Mar 20, 2020       Pune  HDFC Bank     5.0   \n",
       "4            R  Mar 20, 2020  Bangalore     review     5.0   \n",
       "\n",
       "  review_title_by_user                                             review  \\\n",
       "0        \"Best saving\"  State Bank Of India is located nearby in our a...   \n",
       "1       \"Good service\"  I have my salary account in SBI, when I applie...   \n",
       "2  \"Excellent Service\"  I am using Axis bank saving account for the  p...   \n",
       "3  \"Excellent service\"  I have my salary bank account in HDFC bank for...   \n",
       "4       \"Good account\"  Close to around 10 years, I am holding this Co...   \n",
       "\n",
       "                                          bank_image rating_title_by_user  \\\n",
       "0  https://static.bankbazaar.com/images/common/ba...               Great!   \n",
       "1  https://static.bankbazaar.com/images/common/ba...          Blown Away!   \n",
       "2  https://static.bankbazaar.com/images/common/ba...          Blown Away!   \n",
       "3  https://static.bankbazaar.com/images/common/ba...          Blown Away!   \n",
       "4  https://static.bankbazaar.com/images/common/ba...          Blown Away!   \n",
       "\n",
       "   useful_count  \n",
       "0           133  \n",
       "1            89  \n",
       "2            48  \n",
       "3            52  \n",
       "4            22  "
      ]
     },
     "execution_count": 3,
     "metadata": {},
     "output_type": "execute_result"
    }
   ],
   "source": [
    "df.head(5)"
   ]
  },
  {
   "cell_type": "markdown",
   "id": "22f3f979-241a-4018-a981-91ebb18ad8eb",
   "metadata": {},
   "source": [
    "### Plot distribution of mapped Labels"
   ]
  },
  {
   "cell_type": "code",
   "execution_count": 197,
   "id": "fc38da71-3b90-4fae-b250-fe15ba427249",
   "metadata": {},
   "outputs": [],
   "source": [
    "import matplotlib.pyplot as plt\n",
    "import seaborn as sns"
   ]
  },
  {
   "cell_type": "code",
   "execution_count": 198,
   "id": "1644e80d-ae01-49ff-8c4d-e00eb212f0ed",
   "metadata": {},
   "outputs": [],
   "source": [
    "mapper = {0:'negative',1:'negative',2:'negative',3:'neutral',4:'positive',5:'positive'}\n",
    "\n",
    "df['rate'] = df['rating'].astype(int).map(mapper)"
   ]
  },
  {
   "cell_type": "code",
   "execution_count": 199,
   "id": "8a2b191e-86a6-4522-a325-ff0d9c46062f",
   "metadata": {},
   "outputs": [
    {
     "data": {
      "text/html": [
       "<div>\n",
       "<style scoped>\n",
       "    .dataframe tbody tr th:only-of-type {\n",
       "        vertical-align: middle;\n",
       "    }\n",
       "\n",
       "    .dataframe tbody tr th {\n",
       "        vertical-align: top;\n",
       "    }\n",
       "\n",
       "    .dataframe thead th {\n",
       "        text-align: right;\n",
       "    }\n",
       "</style>\n",
       "<table border=\"1\" class=\"dataframe\">\n",
       "  <thead>\n",
       "    <tr style=\"text-align: right;\">\n",
       "      <th></th>\n",
       "      <th>rate</th>\n",
       "      <th>count</th>\n",
       "    </tr>\n",
       "  </thead>\n",
       "  <tbody>\n",
       "    <tr>\n",
       "      <th>0</th>\n",
       "      <td>positive</td>\n",
       "      <td>852</td>\n",
       "    </tr>\n",
       "    <tr>\n",
       "      <th>1</th>\n",
       "      <td>neutral</td>\n",
       "      <td>92</td>\n",
       "    </tr>\n",
       "    <tr>\n",
       "      <th>2</th>\n",
       "      <td>negative</td>\n",
       "      <td>56</td>\n",
       "    </tr>\n",
       "  </tbody>\n",
       "</table>\n",
       "</div>"
      ],
      "text/plain": [
       "       rate  count\n",
       "0  positive    852\n",
       "1   neutral     92\n",
       "2  negative     56"
      ]
     },
     "execution_count": 199,
     "metadata": {},
     "output_type": "execute_result"
    }
   ],
   "source": [
    "df['rate'].value_counts(dropna=False).reset_index()"
   ]
  },
  {
   "cell_type": "markdown",
   "id": "86dbf17d-a400-4d49-b04a-ba157c0ca207",
   "metadata": {},
   "source": [
    "### Plot distribution"
   ]
  },
  {
   "cell_type": "code",
   "execution_count": 200,
   "id": "3769ebea-5449-4fab-9773-6147597947c6",
   "metadata": {},
   "outputs": [
    {
     "data": {
      "text/plain": [
       "Text(0.5, 1.0, 'Rating distribution')"
      ]
     },
     "execution_count": 200,
     "metadata": {},
     "output_type": "execute_result"
    },
    {
     "data": {
      "image/png": "[encoded data removed]",
      "text/plain": [
       "<Figure size 640x480 with 1 Axes>"
      ]
     },
     "metadata": {},
     "output_type": "display_data"
    }
   ],
   "source": [
    "sns.barplot(df['rate'].value_counts().reset_index(),x='rate',y='count')\n",
    "plt.title('Rating distribution')"
   ]
  },
  {
   "cell_type": "markdown",
   "id": "ffad50c4-4bcc-4a6c-a6b0-1ec3bad3a5f9",
   "metadata": {},
   "source": [
    "### Summarize number of samples and class balance"
   ]
  },
  {
   "cell_type": "code",
   "execution_count": 201,
   "id": "9b11ce7d-7fd0-44dc-a503-1308dc8745dd",
   "metadata": {},
   "outputs": [
    {
     "name": "stdout",
     "output_type": "stream",
     "text": [
      "num sample (1000, 12)\n",
      "\n",
      "class balance\n",
      " rate\n",
      "positive    852\n",
      "neutral      92\n",
      "negative     56\n",
      "Name: count, dtype: int64\n"
     ]
    }
   ],
   "source": [
    "print('num sample', df.shape)\n",
    "print('\\nclass balance\\n', df['rate'].value_counts())"
   ]
  },
  {
   "cell_type": "markdown",
   "id": "bd42a78f-1591-45f3-bb7a-74b25ba49c51",
   "metadata": {},
   "source": [
    "# Part 2 Using FinBERT for inference"
   ]
  },
  {
   "cell_type": "markdown",
   "id": "1630c27a-db76-4ad6-a0f1-3511fdd24e1b",
   "metadata": {},
   "source": [
    "### load pre-trained FINBERT (yiyanghkust/finbert-tone)"
   ]
  },
  {
   "cell_type": "code",
   "execution_count": 202,
   "id": "67bd915b-fa11-4081-b06f-80f02534c9a7",
   "metadata": {},
   "outputs": [],
   "source": [
    "from transformers import AutoTokenizer, AutoModelForSequenceClassification\n",
    "\n",
    "# Load FinBERT (Hugging Face model)\n",
    "model_name = \"yiyanghkust/finbert-tone\"\n",
    "tokenizer = AutoTokenizer.from_pretrained(model_name)\n",
    "model = AutoModelForSequenceClassification.from_pretrained(model_name,num_labels=3)"
   ]
  },
  {
   "cell_type": "markdown",
   "id": "f2f444a8-8925-4d66-9eb4-3e62e847db03",
   "metadata": {},
   "source": [
    "### Tokenize Example Senteces"
   ]
  },
  {
   "cell_type": "code",
   "execution_count": 203,
   "id": "b1f254dd-aca5-4bcd-85ed-eeb39f53a6a0",
   "metadata": {},
   "outputs": [],
   "source": [
    "take_5 = df['review'].head(5)"
   ]
  },
  {
   "cell_type": "code",
   "execution_count": 204,
   "id": "21ff99da-e035-48cd-b705-9e6eaaffa071",
   "metadata": {},
   "outputs": [],
   "source": [
    "inputs = tokenizer.batch_encode_plus(take_5.values.tolist(),\n",
    "                                     max_length=128,padding=True,truncation=True,\n",
    "                                     return_tensors='pt')"
   ]
  },
  {
   "cell_type": "markdown",
   "id": "17271b1a-6720-42d0-bd57-a3b41beb5c22",
   "metadata": {},
   "source": [
    "### Predict Sentiment Probabilities"
   ]
  },
  {
   "cell_type": "code",
   "execution_count": 205,
   "id": "974734f7-0e2f-4117-a1ed-8fe61b539a8a",
   "metadata": {},
   "outputs": [],
   "source": [
    "with torch.no_grad():\n",
    "    outputs = model(**inputs)\n",
    "    probs = torch.softmax(outputs.logits,dim=1).squeeze()\n",
    "\n",
    "pred_class = torch.argmax(probs,-1)"
   ]
  },
  {
   "cell_type": "code",
   "execution_count": 206,
   "id": "b9643d17-e1b3-48f1-83c6-dcdb246067b6",
   "metadata": {},
   "outputs": [],
   "source": [
    "labels = [\"neutral\", \"positive\",\"negative\"]\n",
    "\n",
    "#LABEL_0: neutral; LABEL_1: positive; LABEL_2: negative"
   ]
  },
  {
   "cell_type": "code",
   "execution_count": 207,
   "id": "22e9f90e-f298-4d75-b474-c4f2d60a04d7",
   "metadata": {},
   "outputs": [
    {
     "data": {
      "text/html": [
       "<div>\n",
       "<style scoped>\n",
       "    .dataframe tbody tr th:only-of-type {\n",
       "        vertical-align: middle;\n",
       "    }\n",
       "\n",
       "    .dataframe tbody tr th {\n",
       "        vertical-align: top;\n",
       "    }\n",
       "\n",
       "    .dataframe thead th {\n",
       "        text-align: right;\n",
       "    }\n",
       "</style>\n",
       "<table border=\"1\" class=\"dataframe\">\n",
       "  <thead>\n",
       "    <tr style=\"text-align: right;\">\n",
       "      <th></th>\n",
       "      <th>text</th>\n",
       "      <th>sentiment</th>\n",
       "    </tr>\n",
       "  </thead>\n",
       "  <tbody>\n",
       "    <tr>\n",
       "      <th>0</th>\n",
       "      <td>State Bank Of India is located nearby in our a...</td>\n",
       "      <td>positive</td>\n",
       "    </tr>\n",
       "    <tr>\n",
       "      <th>1</th>\n",
       "      <td>I have my salary account in SBI, when I applie...</td>\n",
       "      <td>positive</td>\n",
       "    </tr>\n",
       "    <tr>\n",
       "      <th>2</th>\n",
       "      <td>I am using Axis bank saving account for the  p...</td>\n",
       "      <td>neutral</td>\n",
       "    </tr>\n",
       "    <tr>\n",
       "      <th>3</th>\n",
       "      <td>I have my salary bank account in HDFC bank for...</td>\n",
       "      <td>positive</td>\n",
       "    </tr>\n",
       "    <tr>\n",
       "      <th>4</th>\n",
       "      <td>Close to around 10 years, I am holding this Co...</td>\n",
       "      <td>neutral</td>\n",
       "    </tr>\n",
       "  </tbody>\n",
       "</table>\n",
       "</div>"
      ],
      "text/plain": [
       "                                                text sentiment\n",
       "0  State Bank Of India is located nearby in our a...  positive\n",
       "1  I have my salary account in SBI, when I applie...  positive\n",
       "2  I am using Axis bank saving account for the  p...   neutral\n",
       "3  I have my salary bank account in HDFC bank for...  positive\n",
       "4  Close to around 10 years, I am holding this Co...   neutral"
      ]
     },
     "execution_count": 207,
     "metadata": {},
     "output_type": "execute_result"
    }
   ],
   "source": [
    "pd.DataFrame(data={\n",
    "    'text': take_5,\n",
    "    'sentiment': [labels[i] for i in pred_class]\n",
    "    },columns=['text','sentiment'])"
   ]
  },
  {
   "cell_type": "markdown",
   "id": "a41edbe4-4dff-49fb-84e0-58e5abf9ecd6",
   "metadata": {},
   "source": [
    "# Fine Tune FinBERT"
   ]
  },
  {
   "cell_type": "code",
   "execution_count": 208,
   "id": "79245dab-3048-47b9-a428-e51b83597879",
   "metadata": {},
   "outputs": [],
   "source": [
    "label_map = {\"neutral\": 0, \"positive\": 1,\"negative\": 2}\n",
    "df[\"label\"] = df[\"rate\"].map(label_map)"
   ]
  },
  {
   "cell_type": "code",
   "execution_count": 209,
   "id": "dbb0b1f1-36dc-47f3-ac14-23977aff5e3c",
   "metadata": {},
   "outputs": [],
   "source": [
    "# Train/test split\n",
    "train_texts, test_texts, train_labels, test_labels = train_test_split(\n",
    "    df[\"review\"].tolist(),\n",
    "    df[\"label\"].tolist(),\n",
    "    test_size=0.2,\n",
    "    random_state=42\n",
    ")"
   ]
  },
  {
   "cell_type": "code",
   "execution_count": 210,
   "id": "c11d3fde-bb3d-434c-afa0-8af65e0b2826",
   "metadata": {},
   "outputs": [
    {
     "data": {
      "text/plain": [
       "1    169\n",
       "2     16\n",
       "0     15\n",
       "Name: count, dtype: int64"
      ]
     },
     "execution_count": 210,
     "metadata": {},
     "output_type": "execute_result"
    }
   ],
   "source": [
    "pd.Series(test_labels).value_counts()"
   ]
  },
  {
   "cell_type": "code",
   "execution_count": 211,
   "id": "893e3b33-1ed8-4217-90f4-2f49d80a885d",
   "metadata": {},
   "outputs": [],
   "source": [
    "train_encodings = tokenizer.batch_encode_plus(train_texts,truncation=True,\n",
    "                                              max_length=128,padding=True,\n",
    "                                              return_tensors='pt')\n",
    "\n",
    "test_encodings = tokenizer.batch_encode_plus(test_texts,truncation=True,\n",
    "                                              max_length=128,padding=True,\n",
    "                                              return_tensors='pt')"
   ]
  },
  {
   "cell_type": "code",
   "execution_count": 212,
   "id": "5c58ad93-5678-4322-8ea5-3c72c67b183f",
   "metadata": {},
   "outputs": [],
   "source": [
    "class SentimentDataset(torch.utils.data.Dataset):\n",
    "    def __init__(self, encodings, labels):\n",
    "        self.encodings = encodings\n",
    "        self.labels = labels\n",
    "\n",
    "    def __len__(self):\n",
    "        return len(self.labels)\n",
    "\n",
    "    def __getitem__(self, idx):\n",
    "        item = {key: val[idx] for key, val in self.encodings.items()}\n",
    "        item[\"labels\"] = torch.tensor(self.labels[idx])\n",
    "        return item"
   ]
  },
  {
   "cell_type": "code",
   "execution_count": 213,
   "id": "e782f32a-1579-4378-916a-aa7d8851c436",
   "metadata": {},
   "outputs": [],
   "source": [
    "train_ds = SentimentDataset(train_encodings,train_labels)\n",
    "test_ds = SentimentDataset(test_encodings,test_labels)"
   ]
  },
  {
   "cell_type": "code",
   "execution_count": 214,
   "id": "597d268a-e63a-4299-a640-dd4df50ee473",
   "metadata": {},
   "outputs": [],
   "source": [
    "model = AutoModelForSequenceClassification.from_pretrained(model_name,num_labels=3)"
   ]
  },
  {
   "cell_type": "code",
   "execution_count": 215,
   "id": "8ec48122-8b3a-4f35-b6ee-07d5bfd24744",
   "metadata": {},
   "outputs": [],
   "source": [
    "import evaluate"
   ]
  },
  {
   "cell_type": "code",
   "execution_count": 216,
   "id": "3297edfe-10a9-45e2-9d41-c9bf3f40253f",
   "metadata": {},
   "outputs": [],
   "source": [
    "from sklearn.utils import class_weight\n",
    "import numpy as np\n",
    "import torch"
   ]
  },
  {
   "cell_type": "code",
   "execution_count": 217,
   "id": "91d02a4b-5a67-40ab-a036-34378b84a120",
   "metadata": {},
   "outputs": [],
   "source": [
    "# Assuming 'labels' is your array of target class labels\n",
    "# class_weights_np = class_weight.compute_class_weight('balanced', classes=np.unique(train_labels), y=train_labels)\n",
    "# class_weights = torch.tensor(class_weights_np, dtype=torch.float)\n",
    "# criterion = torch.nn.CrossEntropyLoss(weight=class_weights)\n",
    "# loss = criterion(logits, inputs['labels'])"
   ]
  },
  {
   "cell_type": "code",
   "execution_count": 218,
   "id": "409c9ba7-c1fa-40cd-be7d-3cc68bfeb790",
   "metadata": {},
   "outputs": [
    {
     "data": {
      "text/plain": [
       "tensor([3.4632, 0.3904, 6.6667])"
      ]
     },
     "execution_count": 218,
     "metadata": {},
     "output_type": "execute_result"
    }
   ],
   "source": [
    "class_weights"
   ]
  },
  {
   "cell_type": "code",
   "execution_count": 219,
   "id": "293b99ca-00d8-4e28-af4b-6a681c5b393e",
   "metadata": {},
   "outputs": [],
   "source": [
    "metric = evaluate.load('accuracy')\n",
    "class_weights_np = class_weight.compute_class_weight('balanced', classes=np.unique(train_labels), y=train_labels)\n",
    "class_weights = torch.tensor(class_weights_np, dtype=torch.float)\n",
    "\n",
    "def compute_metrics(eval_pred):\n",
    "    logits, labels = eval_pred\n",
    "    logits = torch.tensor(logits)\n",
    "    preds = np.argmax(logits, axis=-1)\n",
    "    return metric.compute(predictions=preds, references=labels)\n",
    "    # criterion = torch.nn.CrossEntropyLoss(weights=class_weights)\n",
    "    # loss = criterion(logits, inputs['labels'])\n",
    "    # criterion = torch.nn.CrossEntropyLoss(weight=class_weights)\n",
    "    # loss = criterion(logits, labels)\n",
    "    # return loss"
   ]
  },
  {
   "cell_type": "code",
   "execution_count": 220,
   "id": "819733f4-e712-4fba-a147-5f6e900a556e",
   "metadata": {},
   "outputs": [],
   "source": [
    "training_args = TrainingArguments(\n",
    "    output_dir=\"./results\",\n",
    "    eval_strategy=\"epoch\",\n",
    "    save_strategy=\"epoch\",\n",
    "    load_best_model_at_end=True,\n",
    "    learning_rate=2e-5,\n",
    "    per_device_train_batch_size=4,\n",
    "    num_train_epochs=1,\n",
    "    weight_decay=0.01,\n",
    "    logging_dir=\"./logs\",\n",
    "    logging_steps=10\n",
    ")"
   ]
  },
  {
   "cell_type": "code",
   "execution_count": 221,
   "id": "61b54b93-ef73-4c99-aacd-fe92f765aeb4",
   "metadata": {},
   "outputs": [],
   "source": [
    "# ============================================================\n",
    "# Trainer\n",
    "# ============================================================\n",
    "trainer = Trainer(\n",
    "    model=model,\n",
    "    args=training_args,\n",
    "    train_dataset=train_ds,\n",
    "    eval_dataset=test_ds,\n",
    "    tokenizer=tokenizer,\n",
    "    compute_metrics=compute_metrics\n",
    ")"
   ]
  },
  {
   "cell_type": "code",
   "execution_count": 222,
   "id": "5815779b-f8a3-4f70-ad63-d03bd938172b",
   "metadata": {},
   "outputs": [
    {
     "data": {
      "text/html": [
       "\n",
       "    <div>\n",
       "      \n",
       "      <progress value='200' max='200' style='width:300px; height:20px; vertical-align: middle;'></progress>\n",
       "      [200/200 06:43, Epoch 1/1]\n",
       "    </div>\n",
       "    <table border=\"1\" class=\"dataframe\">\n",
       "  <thead>\n",
       " <tr style=\"text-align: left;\">\n",
       "      <th>Epoch</th>\n",
       "      <th>Training Loss</th>\n",
       "      <th>Validation Loss</th>\n",
       "      <th>Accuracy</th>\n",
       "    </tr>\n",
       "  </thead>\n",
       "  <tbody>\n",
       "    <tr>\n",
       "      <td>1</td>\n",
       "      <td>0.601100</td>\n",
       "      <td>0.732770</td>\n",
       "      <td>0.845000</td>\n",
       "    </tr>\n",
       "  </tbody>\n",
       "</table><p>"
      ],
      "text/plain": [
       "<IPython.core.display.HTML object>"
      ]
     },
     "metadata": {},
     "output_type": "display_data"
    },
    {
     "data": {
      "text/plain": [
       "TrainOutput(global_step=200, training_loss=0.8156840991973877, metrics={'train_runtime': 407.1744, 'train_samples_per_second': 1.965, 'train_steps_per_second': 0.491, 'total_flos': 52622683545600.0, 'train_loss': 0.8156840991973877, 'epoch': 1.0})"
      ]
     },
     "execution_count": 222,
     "metadata": {},
     "output_type": "execute_result"
    }
   ],
   "source": [
    "trainer.train()"
   ]
  },
  {
   "cell_type": "code",
   "execution_count": 223,
   "id": "479d43fc-37bc-480f-ba6d-a68f8be3ea86",
   "metadata": {},
   "outputs": [
    {
     "name": "stdout",
     "output_type": "stream",
     "text": [
      "\n",
      "Model and tokenizer saved to: ./models/finbert-financial-sentiment\n"
     ]
    }
   ],
   "source": [
    "save_path = \"./models/finbert-financial-sentiment\"\n",
    "trainer.save_model(save_path)\n",
    "tokenizer.save_pretrained(save_path)\n",
    "\n",
    "print(f\"\\nModel and tokenizer saved to: {save_path}\")"
   ]
  },
  {
   "cell_type": "code",
   "execution_count": 224,
   "id": "54a6dadb-3864-4e48-b98f-aa5f7580d122",
   "metadata": {},
   "outputs": [
    {
     "data": {
      "text/html": [],
      "text/plain": [
       "<IPython.core.display.HTML object>"
      ]
     },
     "metadata": {},
     "output_type": "display_data"
    },
    {
     "name": "stdout",
     "output_type": "stream",
     "text": [
      "\n",
      "Classification Report:\n",
      "\n",
      "              precision    recall  f1-score   support\n",
      "\n",
      "     neutral       0.00      0.00      0.00        15\n",
      "    positive       0.85      0.99      0.92       169\n",
      "    negative       0.33      0.06      0.11        16\n",
      "\n",
      "    accuracy                           0.84       200\n",
      "   macro avg       0.40      0.35      0.34       200\n",
      "weighted avg       0.75      0.84      0.78       200\n",
      "\n"
     ]
    },
    {
     "data": {
      "image/png": "[encoded data removed]",
      "text/plain": [
       "<Figure size 600x500 with 2 Axes>"
      ]
     },
     "metadata": {},
     "output_type": "display_data"
    },
    {
     "data": {
      "image/png": "[encoded data removed]",
      "text/plain": [
       "<Figure size 600x400 with 1 Axes>"
      ]
     },
     "metadata": {},
     "output_type": "display_data"
    }
   ],
   "source": [
    "# ============================================================\n",
    "# Evaluate with detailed metrics\n",
    "# ============================================================\n",
    "predictions = trainer.predict(test_ds)\n",
    "y_pred = np.argmax(predictions.predictions, axis=-1)\n",
    "y_true = predictions.label_ids\n",
    "y_probs = torch.softmax(torch.tensor(predictions.predictions), dim=1).numpy()\n",
    "\n",
    "# Classification report\n",
    "print(\"\\nClassification Report:\\n\")\n",
    "print(classification_report(y_true, y_pred, target_names=labels))\n",
    "\n",
    "# Confusion Matrix\n",
    "cm = confusion_matrix(y_true, y_pred)\n",
    "plt.figure(figsize=(6,5))\n",
    "sns.heatmap(cm, annot=True, fmt=\"d\", cmap=\"Blues\",\n",
    "            xticklabels=[\"positive\", \"negative\", \"neutral\"],\n",
    "            yticklabels=[\"positive\", \"negative\", \"neutral\"])\n",
    "plt.title(\"Confusion Matrix\")\n",
    "plt.xlabel(\"Predicted\")\n",
    "plt.ylabel(\"True\")\n",
    "plt.show()\n",
    "\n",
    "# Bar chart for F1-scores\n",
    "report = classification_report(y_true, y_pred, target_names=[\"positive\", \"negative\", \"neutral\"], output_dict=True)\n",
    "f1_scores = [report[label][\"f1-score\"] for label in [\"positive\", \"negative\", \"neutral\"]]\n",
    "\n",
    "plt.figure(figsize=(6,4))\n",
    "sns.barplot(x=[\"positive\", \"negative\", \"neutral\"], y=f1_scores, palette=\"viridis\")\n",
    "plt.title(\"F1-scores per class\")\n",
    "plt.ylabel(\"F1-score\")\n",
    "plt.ylim(0,1)\n",
    "plt.show()"
   ]
  },
  {
   "cell_type": "markdown",
   "id": "1eb11d34-5ca7-43ff-9d15-01b4a452e2a7",
   "metadata": {},
   "source": [
    "# Gradio Apps"
   ]
  },
  {
   "cell_type": "code",
   "execution_count": null,
   "id": "d767ac53-f6ff-4dd6-b5cd-b27607be83f6",
   "metadata": {},
   "outputs": [],
   "source": [
    "# Import libraries\n",
    "import torch\n",
    "from transformers import AutoTokenizer, AutoModelForSequenceClassification\n",
    "import gradio as gr # import gradio\n",
    "\n",
    "import warnings\n",
    "warnings.filterwarnings('ignore')\n",
    "\n",
    "save_path = \"./models/finbert-financial-sentiment\"\n",
    "\n",
    "# Load Model\n",
    "tokenizer = AutoTokenizer.from_pretrained(save_path)\n",
    "model = AutoModelForSequenceClassification.from_pretrained(save_path)\n",
    "\n",
    "# Example inference with loaded model\n",
    "text = \"The bank announced late but fine  financial results this quarter.\"\n",
    "inputs = tokenizer(text, return_tensors=\"pt\")\n",
    "outputs = model(**inputs)\n",
    "pred = torch.argmax(outputs.logits).item()\n",
    "\n",
    "labels = [\"negative\", \"neutral\", \"positive\"]\n",
    "print(\"Predicted Sentiment:\", labels[pred])\n",
    "\n",
    "def response(text):\n",
    "    inputs = tokenizer(text, return_tensors=\"pt\")\n",
    "    outputs = model(**inputs)\n",
    "    pred = torch.argmax(outputs.logits).item()\n",
    "\n",
    "    return f\"Predicted Sentiment: {labels[pred]}\" \n",
    "\n",
    "demo = gr.Interface(response,'text','text')\n",
    "demo.launch()"
   ]
  },
  {
   "cell_type": "markdown",
   "id": "3f1f6dc7-c740-4ebe-ba1c-e58c20665804",
   "metadata": {},
   "source": [
    "# Explainability"
   ]
  },
  {
   "cell_type": "code",
   "execution_count": 225,
   "id": "0e33b604-ddab-4523-9f33-2cab1ce97969",
   "metadata": {},
   "outputs": [],
   "source": [
    "from lime.lime_text import LimeTextExplainer\n",
    "import waterfall_chart"
   ]
  },
  {
   "cell_type": "code",
   "execution_count": 226,
   "id": "016a364f-48ff-4ada-8d3c-651928ff3b15",
   "metadata": {},
   "outputs": [],
   "source": [
    "# Import libraries\n",
    "import torch\n",
    "from transformers import AutoTokenizer, AutoModelForSequenceClassification\n",
    "import gradio as gr # import gradio\n",
    "\n",
    "import warnings\n",
    "warnings.filterwarnings('ignore')\n",
    "\n",
    "save_path = \"./models/finbert-financial-sentiment\"\n",
    "\n",
    "# Load Model\n",
    "tokenizer = AutoTokenizer.from_pretrained(save_path)\n",
    "model = AutoModelForSequenceClassification.from_pretrained(save_path)"
   ]
  },
  {
   "cell_type": "code",
   "execution_count": 227,
   "id": "6de32cef-de7d-4883-b764-a9e254ce8d53",
   "metadata": {},
   "outputs": [
    {
     "ename": "TypeError",
     "evalue": "'numpy.ndarray' object is not callable",
     "output_type": "error",
     "traceback": [
      "\u001b[31m---------------------------------------------------------------------------\u001b[39m",
      "\u001b[31mTypeError\u001b[39m                                 Traceback (most recent call last)",
      "\u001b[36mCell\u001b[39m\u001b[36m \u001b[39m\u001b[32mIn[227]\u001b[39m\u001b[32m, line 12\u001b[39m\n\u001b[32m      9\u001b[39m     pred = torch.argmax(outputs.logits).item()\n\u001b[32m     11\u001b[39m \u001b[38;5;66;03m#Generate explaination\u001b[39;00m\n\u001b[32m---> \u001b[39m\u001b[32m12\u001b[39m exp = \u001b[43mexplainer\u001b[49m\u001b[43m.\u001b[49m\u001b[43mexplain_instance\u001b[49m\u001b[43m(\u001b[49m\u001b[43msample_text\u001b[49m\u001b[43m,\u001b[49m\u001b[43mprobs\u001b[49m\u001b[43m,\u001b[49m\u001b[43mnum_features\u001b[49m\u001b[43m=\u001b[49m\u001b[32;43m10\u001b[39;49m\u001b[43m,\u001b[49m\u001b[43mtop_labels\u001b[49m\u001b[43m=\u001b[49m\u001b[32;43m3\u001b[39;49m\u001b[43m)\u001b[49m\n",
      "\u001b[36mFile \u001b[39m\u001b[32m~\\anaconda3\\envs\\captum\\Lib\\site-packages\\lime\\lime_text.py:413\u001b[39m, in \u001b[36mLimeTextExplainer.explain_instance\u001b[39m\u001b[34m(self, text_instance, classifier_fn, labels, top_labels, num_features, num_samples, distance_metric, model_regressor)\u001b[39m\n\u001b[32m    406\u001b[39m indexed_string = (IndexedCharacters(\n\u001b[32m    407\u001b[39m     text_instance, bow=\u001b[38;5;28mself\u001b[39m.bow, mask_string=\u001b[38;5;28mself\u001b[39m.mask_string)\n\u001b[32m    408\u001b[39m                   \u001b[38;5;28;01mif\u001b[39;00m \u001b[38;5;28mself\u001b[39m.char_level \u001b[38;5;28;01melse\u001b[39;00m\n\u001b[32m    409\u001b[39m                   IndexedString(text_instance, bow=\u001b[38;5;28mself\u001b[39m.bow,\n\u001b[32m    410\u001b[39m                                 split_expression=\u001b[38;5;28mself\u001b[39m.split_expression,\n\u001b[32m    411\u001b[39m                                 mask_string=\u001b[38;5;28mself\u001b[39m.mask_string))\n\u001b[32m    412\u001b[39m domain_mapper = TextDomainMapper(indexed_string)\n\u001b[32m--> \u001b[39m\u001b[32m413\u001b[39m data, yss, distances = \u001b[38;5;28;43mself\u001b[39;49m\u001b[43m.\u001b[49m\u001b[43m__data_labels_distances\u001b[49m\u001b[43m(\u001b[49m\n\u001b[32m    414\u001b[39m \u001b[43m    \u001b[49m\u001b[43mindexed_string\u001b[49m\u001b[43m,\u001b[49m\u001b[43m \u001b[49m\u001b[43mclassifier_fn\u001b[49m\u001b[43m,\u001b[49m\u001b[43m \u001b[49m\u001b[43mnum_samples\u001b[49m\u001b[43m,\u001b[49m\n\u001b[32m    415\u001b[39m \u001b[43m    \u001b[49m\u001b[43mdistance_metric\u001b[49m\u001b[43m=\u001b[49m\u001b[43mdistance_metric\u001b[49m\u001b[43m)\u001b[49m\n\u001b[32m    416\u001b[39m \u001b[38;5;28;01mif\u001b[39;00m \u001b[38;5;28mself\u001b[39m.class_names \u001b[38;5;129;01mis\u001b[39;00m \u001b[38;5;28;01mNone\u001b[39;00m:\n\u001b[32m    417\u001b[39m     \u001b[38;5;28mself\u001b[39m.class_names = [\u001b[38;5;28mstr\u001b[39m(x) \u001b[38;5;28;01mfor\u001b[39;00m x \u001b[38;5;129;01min\u001b[39;00m \u001b[38;5;28mrange\u001b[39m(yss[\u001b[32m0\u001b[39m].shape[\u001b[32m0\u001b[39m])]\n",
      "\u001b[36mFile \u001b[39m\u001b[32m~\\anaconda3\\envs\\captum\\Lib\\site-packages\\lime\\lime_text.py:482\u001b[39m, in \u001b[36mLimeTextExplainer.__data_labels_distances\u001b[39m\u001b[34m(self, indexed_string, classifier_fn, num_samples, distance_metric)\u001b[39m\n\u001b[32m    480\u001b[39m     data[i, inactive] = \u001b[32m0\u001b[39m\n\u001b[32m    481\u001b[39m     inverse_data.append(indexed_string.inverse_removing(inactive))\n\u001b[32m--> \u001b[39m\u001b[32m482\u001b[39m labels = \u001b[43mclassifier_fn\u001b[49m\u001b[43m(\u001b[49m\u001b[43minverse_data\u001b[49m\u001b[43m)\u001b[49m\n\u001b[32m    483\u001b[39m distances = distance_fn(sp.sparse.csr_matrix(data))\n\u001b[32m    484\u001b[39m \u001b[38;5;28;01mreturn\u001b[39;00m data, labels, distances\n",
      "\u001b[31mTypeError\u001b[39m: 'numpy.ndarray' object is not callable"
     ]
    }
   ],
   "source": [
    "explainer = LimeTextExplainer()\n",
    "\n",
    "sample_text = \"The bank reported a strong profit by 70% this quarter.\"\n",
    "\n",
    "with torch.no_grad():\n",
    "    inputs = tokenizer(sample_text, return_tensors=\"pt\")\n",
    "    outputs = model(**inputs)\n",
    "    probs = torch.softmax(outputs.logits, dim=1).cpu().numpy()\n",
    "    pred = torch.argmax(outputs.logits).item()\n",
    "\n",
    "#Generate explaination\n",
    "exp = explainer.explain_instance(sample_text,probs,num_features=10,top_labels=3)"
   ]
  },
  {
   "cell_type": "code",
   "execution_count": null,
   "id": "001c59cf-f76a-4aca-b49c-2f820de7f26a",
   "metadata": {},
   "outputs": [],
   "source": [
    "# Get predicted label\n",
    "label = exp.available_labels()[0]\n",
    "\n",
    "print('Text:',sample_text)\n",
    "print('Predicted Label',class_names[label])\n",
    "print('\\nTop contributing words:')\n",
    "pd.DataFrame(exp.as_list(label=label),columns=['Word','Weight'])"
   ]
  }
 ],
 "metadata": {
  "kernelspec": {
   "display_name": "Python [conda env:captum]",
   "language": "python",
   "name": "conda-env-captum-py"
  },
  "language_info": {
   "codemirror_mode": {
    "name": "ipython",
    "version": 3
   },
   "file_extension": ".py",
   "mimetype": "text/x-python",
   "name": "python",
   "nbconvert_exporter": "python",
   "pygments_lexer": "ipython3",
   "version": "3.13.7"
  }
 },
 "nbformat": 4,
 "nbformat_minor": 5
}
