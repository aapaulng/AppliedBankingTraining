{
 "cells": [
  {
   "cell_type": "markdown",
   "id": "691635bc-7812-449a-8689-1712935d4a51",
   "metadata": {},
   "source": [
    "### Python File Handling"
   ]
  },
  {
   "cell_type": "code",
   "execution_count": 1,
   "id": "b810c29e-343f-458d-b9d6-f13fa8a1c210",
   "metadata": {},
   "outputs": [
    {
     "name": "stdout",
     "output_type": "stream",
     "text": [
      "C:\\Users\\Iverson\\Desktop\\PBS\\Day 2\n"
     ]
    }
   ],
   "source": [
    "%cd \"../Day 2\""
   ]
  },
  {
   "cell_type": "code",
   "execution_count": 13,
   "id": "1ea5cb63-867d-4312-8339-affc5f1d8411",
   "metadata": {},
   "outputs": [],
   "source": [
    "!echo 'Hello! This is sample content for myfile.txt.' > myfile.txt"
   ]
  },
  {
   "cell_type": "code",
   "execution_count": 2,
   "id": "f4225fbf-1f4c-4e84-b36d-d12259706013",
   "metadata": {},
   "outputs": [
    {
     "name": "stdout",
     "output_type": "stream",
     "text": [
      "'Hello! This is sample content for myfile.txt.' \n",
      "\n"
     ]
    }
   ],
   "source": [
    "file = open('myfile.txt','r') # Safe read if file exists\n",
    "content = file.read()\n",
    "file.close()\n",
    "print(content)"
   ]
  },
  {
   "cell_type": "markdown",
   "id": "8727b19a-4b40-4537-9a14-a27482db9048",
   "metadata": {},
   "source": [
    "### Reading files"
   ]
  },
  {
   "cell_type": "code",
   "execution_count": 3,
   "id": "ed1e126b-e3c9-4ac5-af71-9eab3ef0f418",
   "metadata": {},
   "outputs": [
    {
     "name": "stdout",
     "output_type": "stream",
     "text": [
      "'Hell\n"
     ]
    }
   ],
   "source": [
    "# Read 5 character\n",
    "f = open('myfile.txt','r')\n",
    "print(f.read(5))\n",
    "f.close()"
   ]
  },
  {
   "cell_type": "code",
   "execution_count": 5,
   "id": "3dcea623-ed88-4a69-be1d-d22118e8eee2",
   "metadata": {},
   "outputs": [
    {
     "name": "stdout",
     "output_type": "stream",
     "text": [
      "'Hello! This is sample content for myfile.txt.'\n"
     ]
    }
   ],
   "source": [
    "# Read Line by line\n",
    "f = open('myfile.txt','r')\n",
    "for line in f:\n",
    "    print(line.strip())\n",
    "f.close()"
   ]
  },
  {
   "cell_type": "code",
   "execution_count": 8,
   "id": "22cc0a7b-b1cd-4d87-bb73-ab9fcb42b2f4",
   "metadata": {},
   "outputs": [
    {
     "name": "stdout",
     "output_type": "stream",
     "text": [
      "'Hello! This is sample content for myfile.txt.' \n",
      "'Hello! This is sample content for myfile.txt.' \n",
      "'Hello! This is sample content for myfile.txt.' \n"
     ]
    }
   ],
   "source": [
    "# Best practive\n",
    "with open('myfile.txt','r') as f:\n",
    "    print(f.read())"
   ]
  },
  {
   "cell_type": "markdown",
   "id": "25d52898-de2c-4206-8a8c-2da7ddec8609",
   "metadata": {},
   "source": [
    "### Writing & Creating Files"
   ]
  },
  {
   "cell_type": "code",
   "execution_count": 9,
   "id": "ab949e76-2ab8-417c-a181-42fd52e74e1d",
   "metadata": {},
   "outputs": [],
   "source": [
    "# Overwrite\n",
    "f = open('output.txt','w')\n",
    "f.write(\"Hello World\")\n",
    "f.close()"
   ]
  },
  {
   "cell_type": "code",
   "execution_count": 10,
   "id": "830e7cd2-af6e-4305-9f4c-224ebbed9fea",
   "metadata": {},
   "outputs": [],
   "source": [
    "# append\n",
    "f = open('output.txt','a')\n",
    "f.write('\\nMore text.')\n",
    "f.close()"
   ]
  },
  {
   "cell_type": "code",
   "execution_count": 13,
   "id": "a76c5680-a4da-49d4-bada-99fb5b88e035",
   "metadata": {},
   "outputs": [],
   "source": [
    "# create new file, only work if file does not exits\n",
    "f = open('newfile.txt','x')\n",
    "f.write('This is a new file')\n",
    "f.close()"
   ]
  },
  {
   "cell_type": "markdown",
   "id": "3d4e9c6d-89f7-48d0-af98-6ec2f4a490c6",
   "metadata": {},
   "source": [
    "### Delete Files & Folders"
   ]
  },
  {
   "cell_type": "code",
   "execution_count": 14,
   "id": "c2ea9ce2-c1d4-4246-8c6c-85fbdbf74bf4",
   "metadata": {},
   "outputs": [],
   "source": [
    "import os\n",
    "os.remove('newfile.txt')"
   ]
  },
  {
   "cell_type": "code",
   "execution_count": 15,
   "id": "f3f4f405-e1b3-4940-98d1-8d500d4078e0",
   "metadata": {},
   "outputs": [],
   "source": [
    "!echo 'oldfile' > oldfile.txt"
   ]
  },
  {
   "cell_type": "code",
   "execution_count": 18,
   "id": "ee010792-40d7-4a6a-9f32-9d651eed8e93",
   "metadata": {},
   "outputs": [
    {
     "name": "stdout",
     "output_type": "stream",
     "text": [
      "File Does not Exists\n"
     ]
    }
   ],
   "source": [
    "# Check before remove\n",
    "if os.path.exists('oldfile.txt'):\n",
    "    os.remove('oldfile.txt')\n",
    "    print('deleted')\n",
    "else:\n",
    "    print('File Does not Exists')"
   ]
  },
  {
   "cell_type": "markdown",
   "id": "417c6a39-7c9d-4db5-a4b4-3bbdcdff4645",
   "metadata": {},
   "source": [
    "### Reading multiple files with glob"
   ]
  },
  {
   "cell_type": "code",
   "execution_count": 25,
   "id": "9bcf7769-93a8-4536-bd67-7a5211bab5ec",
   "metadata": {},
   "outputs": [
    {
     "name": "stdout",
     "output_type": "stream",
     "text": [
      " Volume in drive C is OS\n",
      " Volume Serial Number is 7639-AD97\n",
      "\n",
      " Directory of C:\\Users\\Iverson\\Desktop\\PBS\\Day 2\n",
      "\n",
      "09/30/2025  09:01 AM    <DIR>          .\n",
      "09/30/2025  08:47 AM    <DIR>          ..\n",
      "09/30/2025  08:55 AM    <DIR>          .ipynb_checkpoints\n",
      "09/30/2025  09:01 AM             6,194 2.Python File Handling.ipynb\n",
      "09/30/2025  08:59 AM    <DIR>          data\n",
      "09/30/2025  08:55 AM               148 myfile.txt\n",
      "09/30/2025  08:57 AM                23 output.txt\n",
      "               3 File(s)          6,365 bytes\n",
      "               4 Dir(s)  133,944,958,976 bytes free\n"
     ]
    }
   ],
   "source": [
    "!dir"
   ]
  },
  {
   "cell_type": "code",
   "execution_count": 28,
   "id": "7f0e427c-0819-408e-8449-70d5f4f2951d",
   "metadata": {},
   "outputs": [],
   "source": [
    "!echo a > data/a.txt\n",
    "!echo b > data/b.txt \n",
    "!echo c > data/c.txt"
   ]
  },
  {
   "cell_type": "code",
   "execution_count": 33,
   "id": "e2902dac-f3d0-42e6-86d5-7f554e907511",
   "metadata": {},
   "outputs": [
    {
     "name": "stdout",
     "output_type": "stream",
     "text": [
      "content of data\\a.txt\n",
      "a \n",
      "\n",
      "content of data\\b.txt\n",
      "b \n",
      "\n",
      "content of data\\c.txt\n",
      "c \n",
      "\n"
     ]
    }
   ],
   "source": [
    "import glob\n",
    "files = glob.glob('data/*.txt')\n",
    "\n",
    "for file in files:\n",
    "    with open(file,'r') as f:\n",
    "        print(f'content of {file}')\n",
    "        print(f.read())"
   ]
  },
  {
   "cell_type": "code",
   "execution_count": 31,
   "id": "a4639fc7-3009-4b91-900f-5a8bb0dc157e",
   "metadata": {},
   "outputs": [
    {
     "name": "stdout",
     "output_type": "stream",
     "text": [
      "a \n",
      "\n",
      "b \n",
      "\n",
      "c \n",
      "\n"
     ]
    }
   ],
   "source": [
    "# Using pathlib instead\n",
    "from pathlib import Path\n",
    "for file in Path('data').glob('*.txt'):\n",
    "    print(file.read_text())"
   ]
  },
  {
   "cell_type": "markdown",
   "id": "773675cc-3ab7-43f7-b92a-b23decc4c0b5",
   "metadata": {},
   "source": [
    "### Regular Experssion"
   ]
  },
  {
   "cell_type": "code",
   "execution_count": 38,
   "id": "14cdcd08-f22e-4782-ad36-e333166de19f",
   "metadata": {},
   "outputs": [
    {
     "name": "stdout",
     "output_type": "stream",
     "text": [
      "['alice-as@example.com', 'bob@domain.org']\n"
     ]
    }
   ],
   "source": [
    "import re \n",
    "text = \"Contact: alice-as@example.com, bob@domain.org\"\n",
    "emails = re.findall(r'[\\w.-]+@[\\w.-]+',text)\n",
    "print(emails)"
   ]
  },
  {
   "cell_type": "code",
   "execution_count": 50,
   "id": "7f40560b-d47b-491e-8979-a3f607cc5265",
   "metadata": {},
   "outputs": [
    {
     "name": "stdout",
     "output_type": "stream",
     "text": [
      "['055-123-4567', '(011)888-9988']\n"
     ]
    }
   ],
   "source": [
    "text = \"Call 055-123-4567 or (011)888-9988\"\n",
    "phones = re.findall(r'[()\\d-]+',text)\n",
    "print(phones)"
   ]
  },
  {
   "cell_type": "code",
   "execution_count": 51,
   "id": "9df20fc5-5d05-4c0f-956a-ca4033db6687",
   "metadata": {},
   "outputs": [
    {
     "name": "stdout",
     "output_type": "stream",
     "text": [
      "User ID: ******\n"
     ]
    }
   ],
   "source": [
    "# Mask digit\n",
    "text = \"User ID: 983472\"\n",
    "masked = re.sub(r\"\\d\", \"*\", text)\n",
    "print(masked)   # Masks all digits"
   ]
  },
  {
   "cell_type": "code",
   "execution_count": 52,
   "id": "3aecc5b6-9244-47d5-960f-58c77b9657d8",
   "metadata": {},
   "outputs": [
    {
     "name": "stdout",
     "output_type": "stream",
     "text": [
      "User ID: ****72\n"
     ]
    }
   ],
   "source": [
    "text = \"User ID: 983472\"\n",
    "masked = re.sub(r\"\\d(?=\\d{2})\", \"*\", text)\n",
    "print(masked)   # Masks all except last 2 digits"
   ]
  },
  {
   "cell_type": "code",
   "execution_count": 53,
   "id": "3682ab7c-331e-461e-93eb-007f45e1cfd0",
   "metadata": {},
   "outputs": [
    {
     "name": "stdout",
     "output_type": "stream",
     "text": [
      "Phone numbers found in data\\a.txt: []\n",
      "Phone numbers found in data\\b.txt: []\n",
      "Phone numbers found in data\\c.txt: []\n"
     ]
    }
   ],
   "source": [
    "files = glob.glob(\"data/*.txt\")\n",
    "pattern = r\"\\b\\d{3}[-.]\\d{3}[-.]\\d{4}\\b\"\n",
    "\n",
    "for file in files:\n",
    "    with open(file, 'r', encoding='utf-8') as f:\n",
    "        content = f.read()\n",
    "        matches = re.findall(pattern, content)\n",
    "        print(f\"Phone numbers found in {file}:\", matches)"
   ]
  }
 ],
 "metadata": {
  "kernelspec": {
   "display_name": "Python 3 (ipykernel)",
   "language": "python",
   "name": "python3"
  },
  "language_info": {
   "codemirror_mode": {
    "name": "ipython",
    "version": 3
   },
   "file_extension": ".py",
   "mimetype": "text/x-python",
   "name": "python",
   "nbconvert_exporter": "python",
   "pygments_lexer": "ipython3",
   "version": "3.13.5"
  }
 },
 "nbformat": 4,
 "nbformat_minor": 5
}
