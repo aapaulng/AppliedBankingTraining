{
 "cells": [
  {
   "cell_type": "code",
   "execution_count": 1,
   "id": "ff2c6123-db6a-4114-906c-a55cc60d3316",
   "metadata": {},
   "outputs": [
    {
     "name": "stdout",
     "output_type": "stream",
     "text": [
      "C:\\Users\\Iverson\\Desktop\\PBS\\Day 1\n"
     ]
    }
   ],
   "source": [
    "%cd \"Day 1\""
   ]
  },
  {
   "cell_type": "code",
   "execution_count": 1,
   "id": "a6a46f8b-2426-4cc3-82a2-5df41e39fd7c",
   "metadata": {},
   "outputs": [
    {
     "name": "stdout",
     "output_type": "stream",
     "text": [
      "This line runs always, even if imported.\n",
      "Script is run directly → executing main part...\n",
      "Hello from greet() function!\n"
     ]
    }
   ],
   "source": [
    "%run ./myscript.py"
   ]
  },
  {
   "cell_type": "code",
   "execution_count": 2,
   "id": "6646fb3f-e656-456d-81fc-b36b1a1fecbb",
   "metadata": {},
   "outputs": [
    {
     "name": "stdout",
     "output_type": "stream",
     "text": [
      "This line runs always, even if imported.\n"
     ]
    }
   ],
   "source": [
    "from myscript import greet"
   ]
  },
  {
   "cell_type": "code",
   "execution_count": 4,
   "id": "9efdb82f-2b97-4991-9dd5-3424214e1a3b",
   "metadata": {},
   "outputs": [
    {
     "name": "stdout",
     "output_type": "stream",
     "text": [
      "Hello from greet() function!\n"
     ]
    }
   ],
   "source": [
    "greet()"
   ]
  },
  {
   "cell_type": "code",
   "execution_count": 5,
   "id": "c53919c3-9baa-4cdc-9384-8211b6d3bd6c",
   "metadata": {},
   "outputs": [
    {
     "name": "stdout",
     "output_type": "stream",
     "text": [
      "Name: Paul\n",
      "Programming: Python\n",
      "Current Year: 2025\n"
     ]
    }
   ],
   "source": [
    "%run ./my_script.py"
   ]
  },
  {
   "cell_type": "code",
   "execution_count": 3,
   "id": "b3bad4fa-1b6c-4c54-a843-0c05402c3c78",
   "metadata": {},
   "outputs": [
    {
     "name": "stdout",
     "output_type": "stream",
     "text": [
      "Fav Quote: B for Banana\n",
      "The sum: 13\n"
     ]
    }
   ],
   "source": [
    "%run ./comments_demo.py"
   ]
  },
  {
   "cell_type": "markdown",
   "id": "2a9faff0-2e29-4fe4-b047-eccf978b158e",
   "metadata": {},
   "source": [
    "### Python Casting"
   ]
  },
  {
   "cell_type": "code",
   "execution_count": 8,
   "id": "0a275c33-d938-4752-ab08-c9d01ebc0c6a",
   "metadata": {},
   "outputs": [
    {
     "name": "stdout",
     "output_type": "stream",
     "text": [
      "3 4.2 10\n",
      "<class 'int'> <class 'float'> <class 'str'>\n"
     ]
    }
   ],
   "source": [
    "x = int(3.7)\n",
    "y = float(\"4.2\")\n",
    "z = str(10)\n",
    "\n",
    "print(x,y,z)\n",
    "print(type(x),type(y),type(z))"
   ]
  },
  {
   "cell_type": "markdown",
   "id": "d221ceb2-c28a-4fbb-a1bc-b1f686bf6e39",
   "metadata": {},
   "source": [
    "### Python Operators"
   ]
  },
  {
   "cell_type": "code",
   "execution_count": 6,
   "id": "5b62e3a0-7acf-4e6e-ac60-58d0878166cf",
   "metadata": {},
   "outputs": [
    {
     "name": "stdout",
     "output_type": "stream",
     "text": [
      "addition:  7\n",
      "Greater than:  True\n",
      "Logical AND:  True\n"
     ]
    }
   ],
   "source": [
    "a = 5\n",
    "b = 2\n",
    "\n",
    "print('addition: ',a+b)\n",
    "print('Greater than: ',a>b)\n",
    "print('Logical AND: ', (a>2) and (b<3))"
   ]
  },
  {
   "cell_type": "markdown",
   "id": "841f2f77-b914-4257-877f-48aa3b21e0cc",
   "metadata": {},
   "source": [
    "### Python List"
   ]
  },
  {
   "cell_type": "code",
   "execution_count": 5,
   "id": "3ade4ca1-0250-4abc-929f-3ee012625d77",
   "metadata": {},
   "outputs": [
    {
     "name": "stdout",
     "output_type": "stream",
     "text": [
      "First items: apple\n",
      "First two items: ['apple', 'mango']\n",
      "Length: 4\n",
      "updated List: ['apple', 'mango', 'orange', 'cherry']\n"
     ]
    }
   ],
   "source": [
    "fruits = ['apple','banana','orange']\n",
    "\n",
    "fruits.append('cherry')\n",
    "\n",
    "fruits.insert(1,'mango')\n",
    "\n",
    "fruits.remove('banana')\n",
    "\n",
    "print('First items:',fruits[0])\n",
    "\n",
    "print('First two items:', fruits[:2])\n",
    "\n",
    "print('Length:',len(fruits))\n",
    "\n",
    "print('updated List:',fruits)"
   ]
  },
  {
   "cell_type": "markdown",
   "id": "7126f5f6-c024-4ec0-b94b-d108bd9dd9f3",
   "metadata": {},
   "source": [
    "### Python Slicing"
   ]
  },
  {
   "cell_type": "code",
   "execution_count": 10,
   "id": "d231db3f-8f76-4be3-8bfe-7a7de1386aa8",
   "metadata": {},
   "outputs": [
    {
     "name": "stdout",
     "output_type": "stream",
     "text": [
      "text[:]       => python\n",
      "text[0:2]     => py\n",
      "text[2:]      => thon\n",
      "text[:4]      => pyth\n",
      "text[::]      => python\n",
      "text[::2]     => pto\n",
      "text[::-1]    => nohtyp\n"
     ]
    }
   ],
   "source": [
    "text = \"python\"\n",
    "\n",
    "print('text[:]       =>', text[:])      # Copy the whole sequence\n",
    "print('text[0:2]     =>', text[0:2])    # Subsequence from index 0 and 1\n",
    "print('text[2:]      =>', text [2:])    # From index 2 to the end\n",
    "print('text[:4]      =>', text[:4])     # From beginining to index 3\n",
    "print('text[::]      =>', text[::])     # Full copy (same as [:])\n",
    "print('text[::2]     =>', text[::2])    # Every second character\n",
    "print('text[::-1]    =>', text[::-1])   # Reverse the sequence"
   ]
  },
  {
   "cell_type": "code",
   "execution_count": 11,
   "id": "f075cba5-0adc-439d-95ba-a26e09a2798f",
   "metadata": {},
   "outputs": [
    {
     "name": "stdout",
     "output_type": "stream",
     "text": [
      "nums[1:4]   => [20, 30, 40]\n",
      "nums[:3]    => [10, 20, 30]\n",
      "nums[2:]    => [30, 40, 50]\n",
      "nums[::2]   => [10, 30, 50]\n",
      "nums[::-1]  => [50, 40, 30, 20, 10]\n"
     ]
    }
   ],
   "source": [
    "# Example usage with a list\n",
    "nums = [10, 20, 30, 40, 50]\n",
    "\n",
    "print(\"nums[1:4]   =>\", nums[1:4])    # [20, 30, 40]\n",
    "print(\"nums[:3]    =>\", nums[:3])     # [10, 20, 30]\n",
    "print(\"nums[2:]    =>\", nums[2:])     # [30, 40, 50]\n",
    "print(\"nums[::2]   =>\", nums[::2])    # [10, 30, 50]\n",
    "print(\"nums[::-1]  =>\", nums[::-1])   # [50, 40, 30, 20, 10]"
   ]
  },
  {
   "cell_type": "markdown",
   "id": "2dde58bb-eb1a-40bd-bad6-b0f161f5310b",
   "metadata": {},
   "source": [
    "### Python Tuples"
   ]
  },
  {
   "cell_type": "code",
   "execution_count": 15,
   "id": "a44d24aa-4dea-45ce-8dd8-bdfceed8f64e",
   "metadata": {},
   "outputs": [
    {
     "name": "stdout",
     "output_type": "stream",
     "text": [
      "t1: (1, 2, 3)\n",
      "t2: (4, 5, 6)\n",
      "single (42,)\n",
      "empty ()\n",
      "t1[0]: 1\n",
      "t1[-1 3\n",
      "t1[1:3]: (2, 3)\n",
      "unpacked:  1 2 3\n",
      "t1 + t2: (1, 2, 3, 4, 5, 6)\n",
      "t1 * 2: (1, 2, 3, 1, 2, 3)\n",
      "2 in t1: True\n",
      "99 in t1: False\n",
      "Before: (1, [10, 20], 3)\n",
      "After: (1, [10, 20, 30], 3)\n",
      "Length of t1: 3\n"
     ]
    }
   ],
   "source": [
    "# Creating tuples\n",
    "t1 = (1,2,3)    \n",
    "t2 = 4,5,6      # parentheses optional\n",
    "single = (42,)  # single-element tuple\n",
    "empty = () # empty tuple\n",
    "\n",
    "print('t1:',t1)\n",
    "print('t2:',t2)\n",
    "print('single',single)\n",
    "print('empty',empty)\n",
    "\n",
    "# Indexing and slicing\n",
    "print('t1[0]:', t1[0])\n",
    "print('t1[-1', t1[-1])\n",
    "print('t1[1:3]:', t1[1:3])\n",
    "\n",
    "# Tuple unpacking\n",
    "x,y,z = t1\n",
    "print('unpacked: ',x,y,z)\n",
    "\n",
    "# Concatenation and reptition\n",
    "print('t1 + t2:', t1+t2)\n",
    "print('t1 * 2:' , t1*2)\n",
    "\n",
    "# Membership test\n",
    "print('2 in t1:', 2 in t1)\n",
    "print('99 in t1:', 99 in t1)\n",
    "\n",
    "# Nested tuple with mutable object\n",
    "nested = (1,[10,20],3)\n",
    "print('Before:', nested)\n",
    "nested[1].append(30) # allowed because list is mutable\n",
    "print('After:', nested)\n",
    "\n",
    "# Leng of tuple\n",
    "print('Length of t1:', len(t1))"
   ]
  },
  {
   "cell_type": "markdown",
   "id": "8efba333-a228-46ee-aa50-3be78c07dacb",
   "metadata": {},
   "source": [
    "### Python Sets"
   ]
  },
  {
   "cell_type": "code",
   "execution_count": 59,
   "id": "2e1b09be-d1b0-42de-8a29-68929a42d7a4",
   "metadata": {},
   "outputs": [
    {
     "name": "stdout",
     "output_type": "stream",
     "text": [
      "initial set: {1, 2, 3}\n",
      "After adding: {1, 2, 3, 4, 5, 6}\n",
      "Contains 2? True\n",
      "Contains 10? False\n",
      "After removals: {1, 2, 4, 5, 6}\n",
      "Removed element: 1\n",
      "Set after pop: {2, 4, 5, 6}\n",
      "After clear: set()\n"
     ]
    }
   ],
   "source": [
    "# Creating sets with duplicates\n",
    "numbers = {1,2,3,3,2}\n",
    "print(\"initial set:\", numbers) # duplicates removed\n",
    "\n",
    "# Adding elements\n",
    "numbers.add(4)\n",
    "numbers.update([5,6])\n",
    "print ('After adding:', numbers)\n",
    "\n",
    "# Membership testing\n",
    "print('Contains 2?', 2 in numbers)\n",
    "print('Contains 10?', 10 in numbers)\n",
    "\n",
    "# Removing elements\n",
    "numbers.remove(3) # raises error if not found\n",
    "numbers.discard(10) # no error if not found\n",
    "print('After removals:', numbers)\n",
    "\n",
    "# Pop removes a first element in list\n",
    "removed = numbers.pop()\n",
    "print('Removed element:', removed)\n",
    "print('Set after pop:', numbers)\n",
    "\n",
    "# Clear all elements\n",
    "numbers.clear()\n",
    "print('After clear:', numbers)"
   ]
  },
  {
   "cell_type": "code",
   "execution_count": 64,
   "id": "21f27772-a00a-4765-bbf7-1945ac80ffa4",
   "metadata": {},
   "outputs": [
    {
     "name": "stdout",
     "output_type": "stream",
     "text": [
      "a union b: {1, 2, 3, 4, 5, 6}\n",
      "a intersection b: {3, 4}\n",
      "a difference b: {1, 2}\n",
      "b difference a: {5, 6}\n",
      "a symmetric_difference b: {1, 2, 5, 6}\n"
     ]
    }
   ],
   "source": [
    "# Set algebra example\n",
    "a = {1,2,3,4}\n",
    "b = {3,4,5,6}\n",
    "\n",
    "print('a union b:', a | b)\n",
    "print('a intersection b:', a & b)\n",
    "print('a difference b:', a-b)\n",
    "print('b difference a:', b-a)\n",
    "print('a symmetric_difference b:', a ^ b)"
   ]
  },
  {
   "cell_type": "markdown",
   "id": "f58ea831-2c29-4d0d-9307-7039feb000e2",
   "metadata": {},
   "source": [
    "### Python Dictionaries"
   ]
  },
  {
   "cell_type": "code",
   "execution_count": 73,
   "id": "0593189c-a21c-4e17-b845-1d2da7c35f5b",
   "metadata": {},
   "outputs": [
    {
     "name": "stdout",
     "output_type": "stream",
     "text": [
      "Initial: {'name': 'Alice', 'age': 30}\n",
      "Name: Alice\n",
      "After update: {'name': 'Alice', 'age': 31, 'city': 'Kuala Lumpur'}\n",
      "Keys: ['name', 'age', 'city']\n",
      "Values: ['Alice', 31, 'Kuala Lumpur']\n",
      "Items: [('name', 'Alice'), ('age', 31), ('city', 'Kuala Lumpur')]\n",
      "Has \"age\"? True\n",
      "Has 'salary'? False\n",
      "After removing city:  {'name': 'Alice', 'age': 31}\n",
      "Popped age: 31\n",
      "After pop: {'name': 'Alice'}\n",
      "Final results: ohhohh\n"
     ]
    }
   ],
   "source": [
    "# Creating dictionary\n",
    "person = {'name':'Alice', 'age':30}\n",
    "print('Initial:', person)\n",
    "\n",
    "# accessing Values\n",
    "print('Name:', person['name'])\n",
    "\n",
    "# Updating a value\n",
    "person['age'] = 31\n",
    "\n",
    "# Adding a new key-value pair\n",
    "person['city'] = 'Kuala Lumpur'\n",
    "print('After update:', person)\n",
    "\n",
    "# Getting keys, values, items\n",
    "print('Keys:', list(person.keys()))\n",
    "print('Values:', list(person.values()))\n",
    "print('Items:', list(person.items()))\n",
    "\n",
    "# Membership test\n",
    "print('Has \"age\"?', 'age' in person)\n",
    "print(\"Has 'salary'?\", 'salary' in person)\n",
    "\n",
    "# Removeing a key\n",
    "del person['city']\n",
    "print('After removing city: ', person)\n",
    "\n",
    "# Using pop with default\n",
    "age = person.pop('age',None)\n",
    "print('Popped age:', age)\n",
    "print('After pop:', person)\n",
    "\n",
    "# Pop but failed\n",
    "age = person.pop('age','ohhohh')\n",
    "print('Final results:', age)"
   ]
  },
  {
   "cell_type": "code",
   "execution_count": 74,
   "id": "a4cfc5ad-9eff-44a5-9997-29d33111f0a5",
   "metadata": {},
   "outputs": [
    {
     "name": "stdout",
     "output_type": "stream",
     "text": [
      "All Students {'s1': {'name': 'Ali', 'grade': 'A'}, 's2': {'name': 'Sara', 'grade': 'B'}}\n",
      "Students s1 name: Ali\n",
      "Students s2 grade: B\n"
     ]
    }
   ],
   "source": [
    "# Nested dictionaies\n",
    "students = {\n",
    "    's1': {'name':'Ali', 'grade':'A'},\n",
    "    's2': {'name':'Sara', 'grade':'B'}\n",
    "}\n",
    "\n",
    "print('All Students', students)\n",
    "print('Students s1 name:', students['s1']['name'])\n",
    "print('Students s2 grade:', students['s2']['grade'])"
   ]
  },
  {
   "cell_type": "markdown",
   "id": "25b8396a-0371-4a52-9112-d6332d380b3b",
   "metadata": {},
   "source": [
    "### Python If... Else"
   ]
  },
  {
   "cell_type": "code",
   "execution_count": 75,
   "id": "987579e1-e056-4b2f-bb0b-6cf8f2321295",
   "metadata": {},
   "outputs": [
    {
     "name": "stdout",
     "output_type": "stream",
     "text": [
      "x greater than 5\n"
     ]
    }
   ],
   "source": [
    "x = 7 \n",
    "\n",
    "if x>5:\n",
    "    print(\"x greater than 5\")\n",
    "elif x == 5:\n",
    "    print('x equals 5')\n",
    "\n",
    "else:\n",
    "    print('x is less than 5')"
   ]
  },
  {
   "cell_type": "code",
   "execution_count": 76,
   "id": "ddf14fe2-d13e-4c9f-952d-f1349aaa20e8",
   "metadata": {},
   "outputs": [
    {
     "name": "stdout",
     "output_type": "stream",
     "text": [
      "Both x & y are greater than 5\n"
     ]
    }
   ],
   "source": [
    "y = 10 \n",
    "if x > 5 and y > 5:\n",
    "    print('Both x & y are greater than 5')"
   ]
  },
  {
   "cell_type": "markdown",
   "id": "be48ac9d-518e-45ce-9efa-ea3955b57c0b",
   "metadata": {},
   "source": [
    "### Python Match\n",
    "- available in Python 3.10 above"
   ]
  },
  {
   "cell_type": "code",
   "execution_count": null,
   "id": "b01471ae-929c-461d-b792-dc11b7b5d71c",
   "metadata": {},
   "outputs": [],
   "source": [
    "status = 404\n",
    "\n",
    "match status:\n",
    "    case 200:\n",
    "        print('ok')\n",
    "    case 404:\n",
    "        print('Not Found')\n",
    "    case _:"
   ]
  },
  {
   "cell_type": "code",
   "execution_count": 78,
   "id": "93f2e2e7-c86f-4db4-a142-4cfc3207dffc",
   "metadata": {},
   "outputs": [
    {
     "name": "stdout",
     "output_type": "stream",
     "text": [
      "Point at (0,10)\n"
     ]
    }
   ],
   "source": [
    "# Match tuples, always print the first matched\n",
    "point = (0,10)\n",
    "\n",
    "match point:\n",
    "    case (0,y):\n",
    "        print(f'Y-axis at {y}')\n",
    "    case (x,0):\n",
    "        print(f'X-axis at {x}')\n",
    "    case (x,y):\n",
    "        print(f'Point at ({x},{y})')"
   ]
  },
  {
   "cell_type": "code",
   "execution_count": 88,
   "id": "bc4aa5fc-fd88-42f4-8130-164d4bbac5ea",
   "metadata": {},
   "outputs": [
    {
     "name": "stdout",
     "output_type": "stream",
     "text": [
      "20 or more 15\n"
     ]
    }
   ],
   "source": [
    "# Matching with Guards (conditions)\n",
    "value = 15\n",
    "\n",
    "match value:\n",
    "    case x if x < 10:\n",
    "        print('Less than 10')\n",
    "    case x if x < 20:\n",
    "        print('Between 10 and 19')\n",
    "    case yyyy:\n",
    "        print('20 or more',yyyy)"
   ]
  },
  {
   "cell_type": "markdown",
   "id": "30b5ad02-9fb1-4b57-9ffa-e03c30aa5c00",
   "metadata": {},
   "source": [
    "### Python While loops"
   ]
  },
  {
   "cell_type": "code",
   "execution_count": 90,
   "id": "9153198e-b86f-4e4f-84e7-6bc5cebda5ff",
   "metadata": {},
   "outputs": [
    {
     "name": "stdout",
     "output_type": "stream",
     "text": [
      "COunt: 0\n",
      "COunt: 1\n",
      "COunt: 2\n"
     ]
    }
   ],
   "source": [
    "count = 0 \n",
    "while count<3:\n",
    "    print('COunt:', count)\n",
    "    count +=1"
   ]
  },
  {
   "cell_type": "code",
   "execution_count": 92,
   "id": "b1a717d3-67f8-4a6f-8223-d973499c601b",
   "metadata": {},
   "outputs": [
    {
     "name": "stdout",
     "output_type": "stream",
     "text": [
      "i: 0\n",
      "i: 1\n",
      "i: 2\n"
     ]
    }
   ],
   "source": [
    "# Example with break\n",
    "i = 0 \n",
    "while True:\n",
    "    print('i:',i)\n",
    "    if i >=2:\n",
    "        break\n",
    "    i+=1"
   ]
  },
  {
   "cell_type": "code",
   "execution_count": 94,
   "id": "60167f8c-5e2f-43ba-8958-731021836c4b",
   "metadata": {},
   "outputs": [
    {
     "name": "stdout",
     "output_type": "stream",
     "text": [
      "n: 1\n",
      "n: 2\n",
      "n: 4\n",
      "n: 5\n"
     ]
    }
   ],
   "source": [
    "# Example with countinue\n",
    "n = 0 \n",
    "while n < 5:\n",
    "    n+=1\n",
    "    if n == 3:\n",
    "        continue\n",
    "    print('n:',n)"
   ]
  },
  {
   "cell_type": "markdown",
   "id": "8d75caad-ff74-4fcd-9091-44dc1a72eb0d",
   "metadata": {},
   "source": [
    "### Python For loops"
   ]
  },
  {
   "cell_type": "code",
   "execution_count": 95,
   "id": "e259b072-1221-4128-b6a3-a55b1b992a92",
   "metadata": {},
   "outputs": [
    {
     "name": "stdout",
     "output_type": "stream",
     "text": [
      "iteration: 0\n",
      "iteration: 1\n",
      "iteration: 2\n"
     ]
    }
   ],
   "source": [
    "# example with range\n",
    "for i in range(3):\n",
    "    print('iteration:', i)"
   ]
  },
  {
   "cell_type": "code",
   "execution_count": 96,
   "id": "a1029d5f-9336-447d-a23a-d8fb2cffc2f8",
   "metadata": {},
   "outputs": [
    {
     "name": "stdout",
     "output_type": "stream",
     "text": [
      "0: red\n",
      "1: green\n",
      "2: blue\n"
     ]
    }
   ],
   "source": [
    "# Example with enumerate()\n",
    "colors = ['red','green','blue']\n",
    "for index, color in enumerate(colors):\n",
    "    print(f'{index}: {color}')"
   ]
  },
  {
   "cell_type": "markdown",
   "id": "25659863-ddb2-41d6-af17-3daa23a1be81",
   "metadata": {},
   "source": [
    "### Python Functions"
   ]
  },
  {
   "cell_type": "code",
   "execution_count": 97,
   "id": "96c95b6c-fbb7-45ab-9446-c8658fcfd0ae",
   "metadata": {},
   "outputs": [
    {
     "name": "stdout",
     "output_type": "stream",
     "text": [
      "sum: 8\n"
     ]
    }
   ],
   "source": [
    "def add(a,b):\n",
    "    return a+b\n",
    "\n",
    "result = add(3,5)\n",
    "print('sum:', result)"
   ]
  },
  {
   "cell_type": "code",
   "execution_count": 98,
   "id": "e3459ba7-5175-4d81-8c9b-948bbf66020d",
   "metadata": {},
   "outputs": [
    {
     "name": "stdout",
     "output_type": "stream",
     "text": [
      "Default exponent: 16\n",
      "Custome exponent: 8\n"
     ]
    }
   ],
   "source": [
    "# Function with default arguments\n",
    "def power(base, exponent=2):\n",
    "    return base ** exponent\n",
    "\n",
    "print('Default exponent:', power(4))\n",
    "print('Custome exponent:', power(2,3))"
   ]
  },
  {
   "cell_type": "code",
   "execution_count": 99,
   "id": "ef8e7289-77b0-4ace-969f-ca5a3aa7fffe",
   "metadata": {},
   "outputs": [
    {
     "name": "stdout",
     "output_type": "stream",
     "text": [
      "THis is mesage\n"
     ]
    }
   ],
   "source": [
    "# Function without return \n",
    "def display_message():\n",
    "    print('THis is mesage')\n",
    "display_message()"
   ]
  },
  {
   "cell_type": "markdown",
   "id": "8defeefe-acb4-4d7c-a239-18fa7cbf5f7e",
   "metadata": {},
   "source": [
    "### Python Lambda Funtions"
   ]
  },
  {
   "cell_type": "code",
   "execution_count": 101,
   "id": "ec7fe06a-c315-451a-a504-36849599cd81",
   "metadata": {},
   "outputs": [
    {
     "name": "stdout",
     "output_type": "stream",
     "text": [
      "25\n"
     ]
    }
   ],
   "source": [
    "# Basic Lambda\n",
    "square = lambda x: x*x\n",
    "print(square(5))"
   ]
  },
  {
   "cell_type": "code",
   "execution_count": 103,
   "id": "31b3ddbd-7273-484e-a1a5-7543ac119c79",
   "metadata": {},
   "outputs": [
    {
     "name": "stdout",
     "output_type": "stream",
     "text": [
      "7\n"
     ]
    }
   ],
   "source": [
    "# Lambda with multiple arguments\n",
    "add = lambda a,b: a+b\n",
    "print(add(3,4))"
   ]
  },
  {
   "cell_type": "code",
   "execution_count": 105,
   "id": "c56e8fcc-83b6-4669-a037-6827aca0e510",
   "metadata": {},
   "outputs": [
    {
     "name": "stdout",
     "output_type": "stream",
     "text": [
      "['banana', 'cherry', 'apple']\n"
     ]
    }
   ],
   "source": [
    "# Lambda with sorted()\n",
    "words = ['banana','cherry','apple']\n",
    "words_sorted = sorted(words, key=lambda word: len(word),reverse=True)\n",
    "print(words_sorted)"
   ]
  },
  {
   "cell_type": "markdown",
   "id": "035c3129-c81d-431c-9024-25c7bf2855ba",
   "metadata": {},
   "source": [
    "### Python Arrays"
   ]
  },
  {
   "cell_type": "code",
   "execution_count": 107,
   "id": "0542d83d-1386-45c1-958f-bb383b6ee0ad",
   "metadata": {},
   "outputs": [
    {
     "name": "stdout",
     "output_type": "stream",
     "text": [
      "array('i', [1, 2, 3, 4, 5])\n"
     ]
    }
   ],
   "source": [
    "import array \n",
    "\n",
    "nums = array.array('i',[1,2,3,4])\n",
    "nums.append(5)\n",
    "print(nums)"
   ]
  },
  {
   "cell_type": "code",
   "execution_count": 108,
   "id": "eb1338a2-e8b9-4150-9645-ac75b6c527b2",
   "metadata": {},
   "outputs": [
    {
     "name": "stdout",
     "output_type": "stream",
     "text": [
      "First elements: 1\n",
      "Slice: array('i', [2, 3, 4])\n"
     ]
    }
   ],
   "source": [
    "# Accesing elements\n",
    "print('First elements:', nums[0])\n",
    "print('Slice:', nums[1:4])"
   ]
  },
  {
   "cell_type": "markdown",
   "id": "3cd649b9-7164-4f8e-a59e-ef065d8dbb49",
   "metadata": {},
   "source": [
    "### Python Imports"
   ]
  },
  {
   "cell_type": "code",
   "execution_count": 204,
   "id": "7bd8216a-4f44-448f-9421-82b2e454e9b4",
   "metadata": {},
   "outputs": [
    {
     "name": "stdout",
     "output_type": "stream",
     "text": [
      "4.0\n",
      "2025-09-29 16:27:44.218988\n",
      "1\n"
     ]
    }
   ],
   "source": [
    "import math\n",
    "print(math.sqrt(16))\n",
    "\n",
    "from datetime import datetime\n",
    "print(datetime.now())\n",
    "\n",
    "import random as rnd\n",
    "print(rnd.randint(1,10))"
   ]
  },
  {
   "cell_type": "markdown",
   "id": "de734ab3-549d-4312-8739-74a9343e897e",
   "metadata": {},
   "source": [
    "### Python Dates and Times"
   ]
  },
  {
   "cell_type": "code",
   "execution_count": 118,
   "id": "39f4f6d0-402f-43de-b6ce-fa9721e1bc9e",
   "metadata": {},
   "outputs": [],
   "source": [
    "from datetime import datetime, date, time, timedelta"
   ]
  },
  {
   "cell_type": "code",
   "execution_count": 119,
   "id": "05db922f-f7bd-4e76-8b97-a0d40bb8c394",
   "metadata": {},
   "outputs": [
    {
     "name": "stdout",
     "output_type": "stream",
     "text": [
      "Now: 2025-09-29 12:24:24.134168\n",
      "Date only: 2025-09-29\n",
      "Time only: 12:24:24.134168\n"
     ]
    }
   ],
   "source": [
    "now = datetime.now()\n",
    "print('Now:', now)\n",
    "print('Date only:', now.date())\n",
    "print('Time only:', now.time())"
   ]
  },
  {
   "cell_type": "markdown",
   "id": "52ea933e-ed4b-4b02-84cf-d2746981bf59",
   "metadata": {},
   "source": [
    "# Formating with stftime()\n",
    "- %Y -> Year (2025)\n",
    "- %m -> Month (01-12)\n",
    "- %d -> Day (01-31)\n",
    "- %H -> Hour (00-23)\n",
    "- %M -> Minute (00-59)\n",
    "- %S -> Second (00-59)\n",
    "- %A -> Weekday name\n",
    "- %B -> Month name "
   ]
  },
  {
   "cell_type": "code",
   "execution_count": 130,
   "id": "4904e05b-b965-401a-abc3-69019b0fb5a1",
   "metadata": {},
   "outputs": [
    {
     "name": "stdout",
     "output_type": "stream",
     "text": [
      "2025-09-29 12:24:24\n",
      "Monday, September 29, 2025)\n"
     ]
    }
   ],
   "source": [
    "print(now.strftime('%Y-%m-%d %H:%M:%S'))\n",
    "print(now.strftime('%A, %B %d, %Y)'))"
   ]
  },
  {
   "cell_type": "code",
   "execution_count": 137,
   "id": "f3fa7d5c-9c6a-43a9-9254-f6cd4ec87032",
   "metadata": {},
   "outputs": [
    {
     "name": "stdout",
     "output_type": "stream",
     "text": [
      "Date: 2025-01-15\n",
      "Time: 14:30:00\n",
      "Datetime: 2025-01-15 14:30:00\n"
     ]
    }
   ],
   "source": [
    "# Creating specific dates and times\n",
    "d = date(2025,1,15)\n",
    "t = time(14,30,0)\n",
    "dt = datetime(2025,1,15,14,30)\n",
    "\n",
    "print('Date:', d)\n",
    "print('Time:', t)\n",
    "print('Datetime:', dt)"
   ]
  },
  {
   "cell_type": "code",
   "execution_count": 138,
   "id": "b730b41b-a5f7-49e1-9252-1b6bc3618bdf",
   "metadata": {},
   "outputs": [
    {
     "name": "stdout",
     "output_type": "stream",
     "text": [
      "Days between: 364\n",
      "ONe week from now: 2025-10-06 12:24:24.134168\n",
      "Five hours ago: 2025-09-29 07:24:24.134168\n"
     ]
    }
   ],
   "source": [
    "# Calculating difference with timedelta\n",
    "start = date(2025,1,1)\n",
    "end = date(2025,12,31)\n",
    "delta = end - start\n",
    "print('Days between:', delta.days)\n",
    "\n",
    "# Adding & Subtracting Time\n",
    "future = now + timedelta(days=7)\n",
    "past = now - timedelta(hours=5)\n",
    "print('ONe week from now:', future)\n",
    "print('Five hours ago:',past)"
   ]
  },
  {
   "cell_type": "code",
   "execution_count": 140,
   "id": "72024073-4720-4191-bb92-c3fdc33b274c",
   "metadata": {},
   "outputs": [
    {
     "name": "stdout",
     "output_type": "stream",
     "text": [
      "Parsed datetime 2025-09-28 14:45:00\n",
      "Year: 2025 Month:  9 Day:  28\n"
     ]
    }
   ],
   "source": [
    "# Parsing strings into dates with strptime()\n",
    "date_str = \"2025-09-28 14:45:00\"\n",
    "parsed = datetime.strptime(date_str,'%Y-%m-%d %H:%M:%S')\n",
    "print('Parsed datetime', parsed)\n",
    "print('Year:', parsed.year, 'Month: ', parsed.month, 'Day: ', parsed.day)"
   ]
  },
  {
   "cell_type": "markdown",
   "id": "0cbd6d27-e4e7-4297-871f-a93fe2b25d81",
   "metadata": {},
   "source": [
    "### Python Math"
   ]
  },
  {
   "cell_type": "code",
   "execution_count": 141,
   "id": "3b5555ce-04f5-41be-872b-6f4384ace57f",
   "metadata": {},
   "outputs": [
    {
     "name": "stdout",
     "output_type": "stream",
     "text": [
      "Square root: 4.0\n",
      "Pi:  3.141592653589793\n",
      "Power: 8.0\n"
     ]
    }
   ],
   "source": [
    "import math\n",
    "\n",
    "print('Square root:', math.sqrt(16))\n",
    "print('Pi: ', math.pi)\n",
    "print('Power:', math.pow(2,3))"
   ]
  },
  {
   "cell_type": "markdown",
   "id": "b8daa51f-8211-4860-85c1-ea5735141d2b",
   "metadata": {},
   "source": [
    "### Python String Formatting"
   ]
  },
  {
   "cell_type": "code",
   "execution_count": 151,
   "id": "11170d2d-5fe4-4918-bcab-45ea44f8cee4",
   "metadata": {},
   "outputs": [
    {
     "name": "stdout",
     "output_type": "stream",
     "text": [
      "Hello, Alice\n"
     ]
    }
   ],
   "source": [
    "name = 'Alice'\n",
    "print('Hello, %s' % name)"
   ]
  },
  {
   "cell_type": "code",
   "execution_count": 152,
   "id": "44198fad-ee45-48de-9bd3-94d73b69f1ea",
   "metadata": {},
   "outputs": [
    {
     "name": "stdout",
     "output_type": "stream",
     "text": [
      "Age:30\n"
     ]
    }
   ],
   "source": [
    "# str.format()\n",
    "age = 30\n",
    "print('Age:{}'.format(age))"
   ]
  },
  {
   "cell_type": "code",
   "execution_count": 154,
   "id": "bb48d409-2dc4-44ef-a453-96ded0c91b26",
   "metadata": {},
   "outputs": [
    {
     "name": "stdout",
     "output_type": "stream",
     "text": [
      "score:95.5\n"
     ]
    }
   ],
   "source": [
    "# f-strings (Python 3.6+)\n",
    "score = 95.5\n",
    "print(f'score:{score}')"
   ]
  },
  {
   "cell_type": "code",
   "execution_count": 155,
   "id": "3aadac36-451e-4ca3-bfa1-014f1bcfae9c",
   "metadata": {},
   "outputs": [
    {
     "name": "stdout",
     "output_type": "stream",
     "text": [
      "Value rounded: 1234.57\n"
     ]
    }
   ],
   "source": [
    "# Formatting numbers\n",
    "value = 1234.56789\n",
    "print(f'Value rounded: {value:.2f}')"
   ]
  },
  {
   "cell_type": "markdown",
   "id": "cb065392-90d3-463d-9e93-eef3e3be564a",
   "metadata": {},
   "source": [
    "### Python User Input"
   ]
  },
  {
   "cell_type": "code",
   "execution_count": 158,
   "id": "1e28768f-d021-4cce-880e-c85b517a1d3b",
   "metadata": {},
   "outputs": [
    {
     "name": "stdin",
     "output_type": "stream",
     "text": [
      "Enter your name Aa\n"
     ]
    },
    {
     "name": "stdout",
     "output_type": "stream",
     "text": [
      "hello Aa\n"
     ]
    }
   ],
   "source": [
    "name = input('Enter your name')\n",
    "print('hello', name)"
   ]
  },
  {
   "cell_type": "code",
   "execution_count": 159,
   "id": "fca1b6de-acb0-4b3a-bc01-667bb7b4b8e6",
   "metadata": {},
   "outputs": [
    {
     "name": "stdin",
     "output_type": "stream",
     "text": [
      "enter your age: 19\n"
     ]
    },
    {
     "name": "stdout",
     "output_type": "stream",
     "text": [
      "You are 19 year old.\n"
     ]
    }
   ],
   "source": [
    "# Convering input. All input is a string by default\n",
    "age = int(input(\"enter your age:\"))\n",
    "print('You are', age, 'year old.')"
   ]
  },
  {
   "cell_type": "markdown",
   "id": "fb42f3cd-a4f0-4369-a5ce-c4213f6b7ce9",
   "metadata": {},
   "source": [
    "### Python Try...Except"
   ]
  },
  {
   "cell_type": "code",
   "execution_count": 164,
   "id": "3747f1ca-2ba8-47fe-941c-ac509b138eee",
   "metadata": {},
   "outputs": [
    {
     "name": "stdout",
     "output_type": "stream",
     "text": [
      " Invalid number format\n"
     ]
    }
   ],
   "source": [
    "try:\n",
    "    num = int('abc')\n",
    "    print(100/num)\n",
    "except ZeroDivisionError:\n",
    "    print(' Cannot divide by zero!')\n",
    "except ValueError:\n",
    "    print(' Invalid number format')"
   ]
  },
  {
   "cell_type": "code",
   "execution_count": 165,
   "id": "506a3f6b-bfab-43a2-8653-766fc96353d7",
   "metadata": {},
   "outputs": [
    {
     "name": "stdout",
     "output_type": "stream",
     "text": [
      "Error: invalid literal for int() with base 10: 'abc'\n"
     ]
    }
   ],
   "source": [
    "# Catching multiple exceptions in One block\n",
    "try:\n",
    "    num = int('abc')\n",
    "    print(10/num)\n",
    "except (ValueError, ZeroDivisionError) as e:\n",
    "    print('Error:', e)"
   ]
  },
  {
   "cell_type": "code",
   "execution_count": 166,
   "id": "19536a56-9c27-42ea-ab6d-e6fb4e4dd5e0",
   "metadata": {},
   "outputs": [
    {
     "name": "stdout",
     "output_type": "stream",
     "text": [
      "Success! REsult =  5.0\n"
     ]
    }
   ],
   "source": [
    "# else Caluse. Run only if no exception occurs\n",
    "try:\n",
    "    result = 10/2\n",
    "except ZeroDivisionError:\n",
    "    print('Cannot divivde zero')\n",
    "else:\n",
    "    print('Success! REsult = ',result)"
   ]
  },
  {
   "cell_type": "code",
   "execution_count": 167,
   "id": "a98a814f-ecbc-47e0-bb0a-2d8647f77aab",
   "metadata": {},
   "outputs": [
    {
     "name": "stdout",
     "output_type": "stream",
     "text": [
      "File Not found\n",
      "Closing resources\n"
     ]
    }
   ],
   "source": [
    "# Finally Clause, run always whether ogt error or not\n",
    "try:\n",
    "    file = open('data.txt')\n",
    "    print(file.read())\n",
    "except FileNotFoundError:\n",
    "    print('File Not found')\n",
    "finally:\n",
    "    print('Closing resources')"
   ]
  },
  {
   "cell_type": "code",
   "execution_count": 168,
   "id": "dae77e61-ffc4-441a-aa7f-446f440bb312",
   "metadata": {},
   "outputs": [
    {
     "name": "stdout",
     "output_type": "stream",
     "text": [
      "⚠️ Something went wrong: name 'risky_code' is not defined\n"
     ]
    }
   ],
   "source": [
    "# Catching All erros. Not Recommend\n",
    "try: \n",
    "    risky_code()\n",
    "except Exception as e:\n",
    "    print('⚠️ Something went wrong:', e)"
   ]
  },
  {
   "cell_type": "code",
   "execution_count": 170,
   "id": "17b8c74d-7166-4203-937c-1a22de795ae5",
   "metadata": {},
   "outputs": [
    {
     "name": "stdout",
     "output_type": "stream",
     "text": [
      "⚠️ An unknown error occurred.\n"
     ]
    }
   ],
   "source": [
    "# Bare except, (Very Dangerous).\n",
    "try:\n",
    "    risky_code()\n",
    "except:\n",
    "    print(\"⚠️ An unknown error occurred.\")"
   ]
  },
  {
   "cell_type": "markdown",
   "id": "6a09977d-a374-4831-8164-a86064b3e4a8",
   "metadata": {},
   "source": [
    "### Error vs Warning\n",
    "- Error - stop program\n",
    "- Warning - program still run"
   ]
  },
  {
   "cell_type": "code",
   "execution_count": 172,
   "id": "46f61669-8fd2-40b7-a509-83ac045d92fd",
   "metadata": {},
   "outputs": [
    {
     "name": "stderr",
     "output_type": "stream",
     "text": [
      "C:\\Users\\Iverson\\AppData\\Local\\Temp\\ipykernel_5176\\2525532156.py:3: UserWarning: This feature is depcreated\n",
      "  warnings.warn('This feature is depcreated')\n"
     ]
    }
   ],
   "source": [
    "import warnings\n",
    "\n",
    "warnings.warn('This feature is depcreated')"
   ]
  },
  {
   "cell_type": "markdown",
   "id": "e39f0477-5c45-43c5-8450-46008a7cf085",
   "metadata": {},
   "source": [
    "# Exercise"
   ]
  },
  {
   "cell_type": "code",
   "execution_count": 177,
   "id": "34c2a66c-298d-4e67-ae96-e0e0372d5f3c",
   "metadata": {},
   "outputs": [
    {
     "name": "stdout",
     "output_type": "stream",
     "text": [
      "name: paul ,age: 18.0 ,is_student: True\n",
      "name: <class 'str'> ,age: <class 'float'> ,is_student: <class 'bool'>\n",
      "counter inside function: 1\n",
      "counter outside function: 1\n"
     ]
    }
   ],
   "source": [
    "# 4. Working with Python Variables\n",
    "%run variables_practice.py "
   ]
  },
  {
   "cell_type": "code",
   "execution_count": 178,
   "id": "60c67c34-977f-4d5f-9f66-8d46dc29c3fd",
   "metadata": {},
   "outputs": [
    {
     "name": "stdout",
     "output_type": "stream",
     "text": [
      "num_str: 100 num_int 100 price_string 100.0 flag_bool False\n",
      "num_str: <class 'str'> num_int <class 'int'> price_string <class 'str'> flag_bool <class 'bool'>\n"
     ]
    }
   ],
   "source": [
    "# 5 Type Casting\n",
    "%run casting_example.py"
   ]
  },
  {
   "cell_type": "code",
   "execution_count": 179,
   "id": "2c70a370-4d38-49bf-b50e-07f5b4aaf58a",
   "metadata": {},
   "outputs": [
    {
     "name": "stdout",
     "output_type": "stream",
     "text": [
      "Addition: 13\n",
      "Subtraction: 7\n",
      "Multiplication: 30\n",
      "Division: 3.3333333333333335\n",
      "Modulus: 1\n",
      "Exponentiation: 1000\n",
      "Floor Division: 3\n",
      "Equal: False\n",
      "Not Equal: True\n",
      "Greater Than: True\n",
      "Less Than or Equal: False\n",
      "AND: False\n",
      "OR: True\n",
      "NOT: True\n",
      "Type of is_raining: <class 'bool'>\n",
      "a after += 2: 12\n",
      "a after *= 3: 36\n"
     ]
    }
   ],
   "source": [
    "# 6 Python Operator\n",
    "%run operators_demo.py"
   ]
  },
  {
   "cell_type": "code",
   "execution_count": 183,
   "id": "d28f09b9-92aa-4551-b8c3-623bc92c9fdf",
   "metadata": {},
   "outputs": [
    {
     "name": "stdout",
     "output_type": "stream",
     "text": [
      "original ['papaya', 'banana', 'coconut']\n",
      "add watermelon ['papaya', 'banana', 'coconut', 'watermelon']\n",
      "insert orange at 2nd ['papaya', 'orange', 'banana', 'coconut', 'watermelon']\n",
      "remove banana ['papaya', 'orange', 'coconut', 'watermelon']\n",
      "Last Fruit: watermelon\n",
      "First 2: ['papaya', 'orange']\n",
      "Total Num: 4\n",
      "sorted ['papaya', 'orange', 'coconut', 'watermelon']\n"
     ]
    }
   ],
   "source": [
    "# 7. Python List\n",
    "%run list_practice.py"
   ]
  },
  {
   "cell_type": "code",
   "execution_count": 185,
   "id": "3671c1d5-90ff-4bd9-b874-43580d00bdf6",
   "metadata": {},
   "outputs": [
    {
     "name": "stdout",
     "output_type": "stream",
     "text": [
      "All Value 50 100\n",
      "len 2\n"
     ]
    },
    {
     "ename": "TypeError",
     "evalue": "'tuple' object does not support item assignment",
     "output_type": "error",
     "traceback": [
      "\u001b[1;31m---------------------------------------------------------------------------\u001b[0m",
      "\u001b[1;31mTypeError\u001b[0m                                 Traceback (most recent call last)",
      "File \u001b[1;32m~\\Desktop\\PBS\\Day 1\\tuple_demo.py:11\u001b[0m\n\u001b[0;32m      7\u001b[0m \u001b[38;5;28mprint\u001b[39m(\u001b[38;5;124m'\u001b[39m\u001b[38;5;124mlen\u001b[39m\u001b[38;5;124m'\u001b[39m,\u001b[38;5;28mlen\u001b[39m(coordinates))\n\u001b[0;32m     10\u001b[0m \u001b[38;5;66;03m# Immutable\u001b[39;00m\n\u001b[1;32m---> 11\u001b[0m coordinates[\u001b[38;5;241m0\u001b[39m] \u001b[38;5;241m=\u001b[39m \u001b[38;5;241m1\u001b[39m\n",
      "\u001b[1;31mTypeError\u001b[0m: 'tuple' object does not support item assignment"
     ]
    }
   ],
   "source": [
    "# 8. Tuples\n",
    "%run tuple_demo.py"
   ]
  },
  {
   "cell_type": "code",
   "execution_count": 186,
   "id": "12fc63ec-2d8d-41a8-8650-adc9dcaa9bbc",
   "metadata": {},
   "outputs": [
    {
     "name": "stdout",
     "output_type": "stream",
     "text": [
      "All Values {1, 2, 3, 4}\n",
      "added 5 {1, 2, 3, 4, 5}\n",
      "removed 3 {1, 2, 4, 5}\n",
      "is 2 in? True\n",
      "set 2 {3, 4, 5, 7}\n",
      "union of 2 {1, 2, 3, 4, 5, 7}\n",
      "intersection of 2 {4, 5}\n",
      "difference a-b {1, 2}\n",
      "difference b-a {3, 7}\n"
     ]
    }
   ],
   "source": [
    "# 9. Sets\n",
    "%run set_operations.py"
   ]
  },
  {
   "cell_type": "code",
   "execution_count": 189,
   "id": "81123352-dfcd-43c9-b22a-40310ed28731",
   "metadata": {},
   "outputs": [
    {
     "name": "stdout",
     "output_type": "stream",
     "text": [
      "name: king age: 15 city: KL\n",
      "Keys: dict_keys(['name', 'age', 'email']) Values: dict_values(['king', 15, 'aaaa@email.com'])\n",
      "key: name value: king\n",
      "key: age value: 15\n",
      "key: email value: aaaa@email.com\n"
     ]
    }
   ],
   "source": [
    "# 10. Dictionary\n",
    "%run dictionary_demo.py"
   ]
  },
  {
   "cell_type": "code",
   "execution_count": 194,
   "id": "c83f9e84-a7f0-4bb4-b7cf-839c82fa479b",
   "metadata": {},
   "outputs": [
    {
     "name": "stdin",
     "output_type": "stream",
     "text": [
      "Whats your score? 49\n"
     ]
    },
    {
     "name": "stdout",
     "output_type": "stream",
     "text": [
      "You failed\n"
     ]
    }
   ],
   "source": [
    "# 11. If else\n",
    "%run score_check.py"
   ]
  },
  {
   "cell_type": "code",
   "execution_count": 195,
   "id": "74a913e5-3bc3-4b3a-9f51-f373094e5a15",
   "metadata": {},
   "outputs": [
    {
     "name": "stdout",
     "output_type": "stream",
     "text": [
      "1\n",
      "2\n",
      "3\n",
      "4\n",
      "5\n",
      "Hello Ali\n",
      "Hello Sara\n",
      "Hello John\n"
     ]
    }
   ],
   "source": [
    "# 13. While & For Loops\n",
    "%run while_loop.py"
   ]
  },
  {
   "cell_type": "code",
   "execution_count": 197,
   "id": "1657399c-e3b3-42fe-8668-a0d0c48cffe0",
   "metadata": {},
   "outputs": [
    {
     "name": "stdout",
     "output_type": "stream",
     "text": [
      "Welcome, paul\n",
      "5*2= 10\n",
      "6 square= 36\n"
     ]
    }
   ],
   "source": [
    "# 14. Writing Function\n",
    "%run demo_function.py"
   ]
  },
  {
   "cell_type": "code",
   "execution_count": 202,
   "id": "0b8b221d-0f7d-49c3-9d68-52c574e1eab3",
   "metadata": {},
   "outputs": [
    {
     "name": "stdout",
     "output_type": "stream",
     "text": [
      "ori array array('i', [10, 20, 30, 40])\n",
      "add 50 array('i', [10, 20, 30, 40, 50])\n",
      "first element 10\n",
      "len 5\n",
      "type <class 'array.array'>\n"
     ]
    }
   ],
   "source": [
    "# 15. Python arrays\n",
    "%run demo_array.py"
   ]
  },
  {
   "cell_type": "code",
   "execution_count": 206,
   "id": "9e605f04-1add-4190-a9cd-efffa6de9b96",
   "metadata": {},
   "outputs": [
    {
     "name": "stdout",
     "output_type": "stream",
     "text": [
      "square root 49 7.0\n",
      "pi 3.141592653589793\n",
      "time now 2025-09-29 16:28:17.870157\n",
      "random value between 1-10 5\n"
     ]
    }
   ],
   "source": [
    "# 16. python import\n",
    "%run demo_import.py"
   ]
  },
  {
   "cell_type": "code",
   "execution_count": 211,
   "id": "431714f6-1014-4c62-9df5-719f87f2c637",
   "metadata": {},
   "outputs": [
    {
     "name": "stdout",
     "output_type": "stream",
     "text": [
      "full datetime 2025-09-29 16:32:20.175674\n",
      "year 2025\n",
      "formated 2025-09-29\n",
      "days between 271\n"
     ]
    }
   ],
   "source": [
    "# 17. datetime\n",
    "%run  demo_datetime.py"
   ]
  },
  {
   "cell_type": "code",
   "execution_count": 230,
   "id": "40ce2098-bde1-482a-b07f-376e84a80fed",
   "metadata": {},
   "outputs": [
    {
     "name": "stdout",
     "output_type": "stream",
     "text": [
      "Hello paul! Your score is 100.422000\n",
      "Hello paul! Your score is 100.42\n",
      "Hello paul! Your score is 0100.4\n"
     ]
    }
   ],
   "source": [
    "# 19. Formatting string\n",
    "%run demo_string_format.py"
   ]
  },
  {
   "cell_type": "code",
   "execution_count": 231,
   "id": "81c85539-d1da-4a61-8aa2-1c3479bc07c7",
   "metadata": {},
   "outputs": [
    {
     "name": "stdin",
     "output_type": "stream",
     "text": [
      "keyin username paul\n",
      "keyin age 22\n"
     ]
    },
    {
     "name": "stdout",
     "output_type": "stream",
     "text": [
      "Hello paul, you are 22 years old\n",
      "cast to float <class 'float'>\n"
     ]
    }
   ],
   "source": [
    "# 20. user input\n",
    "%run demo_userinput.py"
   ]
  },
  {
   "cell_type": "code",
   "execution_count": 235,
   "id": "d86f9e00-2328-4638-a7b8-ebb4d8cde5db",
   "metadata": {},
   "outputs": [
    {
     "name": "stdin",
     "output_type": "stream",
     "text": [
      "Key in Some Value aa\n"
     ]
    },
    {
     "name": "stdout",
     "output_type": "stream",
     "text": [
      "Invalid input. Please enter a number.\n",
      "Execution finished.\n"
     ]
    },
    {
     "name": "stdin",
     "output_type": "stream",
     "text": [
      "Key in Some Value 0\n"
     ]
    },
    {
     "name": "stdout",
     "output_type": "stream",
     "text": [
      "You can't divide by zero.\n",
      "Execution finished.\n"
     ]
    },
    {
     "name": "stdin",
     "output_type": "stream",
     "text": [
      "Key in Some Value 20\n"
     ]
    },
    {
     "name": "stdout",
     "output_type": "stream",
     "text": [
      "output 5.0\n",
      "Execution finished.\n"
     ]
    }
   ],
   "source": [
    "# 21. handling error\n",
    "%run demo_error.py"
   ]
  }
 ],
 "metadata": {
  "kernelspec": {
   "display_name": "Python 3 (ipykernel)",
   "language": "python",
   "name": "python3"
  },
  "language_info": {
   "codemirror_mode": {
    "name": "ipython",
    "version": 3
   },
   "file_extension": ".py",
   "mimetype": "text/x-python",
   "name": "python",
   "nbconvert_exporter": "python",
   "pygments_lexer": "ipython3",
   "version": "3.13.5"
  }
 },
 "nbformat": 4,
 "nbformat_minor": 5
}
